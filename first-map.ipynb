{
  "cells": [
    {
      "cell_type": "markdown",
      "id": "4681aaaa-53e1-4010-8fb0-39d1b85c34a8",
      "metadata": {},
      "source": [
        "# Add a map to your website\n",
        "\n",
        "Get started with maps\n",
        "\n",
        "Nate Quarderer  \n",
        "Elsa Culler  \n",
        "2024-03-28\n",
        "\n",
        "## Get started with map-making using open-sources tools\n",
        "\n",
        "### Finding locations and boundaries\n",
        "\n",
        "[Open Street Map (OSM)](https://www.openstreetmap.org/) is an\n",
        "open-source, editable map of the world – a little like a wiki for\n",
        "places. They also provide a service for looking up locations using text,\n",
        "which we’ll be using in this activity.\n",
        "\n",
        "### Mapping libraries\n",
        "\n",
        "You’ll need to start by importing the following libraries:"
      ]
    },
    {
      "cell_type": "code",
      "execution_count": 1,
      "id": "cd830589",
      "metadata": {},
      "outputs": [
        {
          "data": {
            "application/javascript": "(function(root) {\n  function now() {\n    return new Date();\n  }\n\n  var force = true;\n  var py_version = '3.3.4'.replace('rc', '-rc.').replace('.dev', '-dev.');\n  var reloading = false;\n  var Bokeh = root.Bokeh;\n\n  if (typeof (root._bokeh_timeout) === \"undefined\" || force) {\n    root._bokeh_timeout = Date.now() + 5000;\n    root._bokeh_failed_load = false;\n  }\n\n  function run_callbacks() {\n    try {\n      root._bokeh_onload_callbacks.forEach(function(callback) {\n        if (callback != null)\n          callback();\n      });\n    } finally {\n      delete root._bokeh_onload_callbacks;\n    }\n    console.debug(\"Bokeh: all callbacks have finished\");\n  }\n\n  function load_libs(css_urls, js_urls, js_modules, js_exports, callback) {\n    if (css_urls == null) css_urls = [];\n    if (js_urls == null) js_urls = [];\n    if (js_modules == null) js_modules = [];\n    if (js_exports == null) js_exports = {};\n\n    root._bokeh_onload_callbacks.push(callback);\n\n    if (root._bokeh_is_loading > 0) {\n      console.debug(\"Bokeh: BokehJS is being loaded, scheduling callback at\", now());\n      return null;\n    }\n    if (js_urls.length === 0 && js_modules.length === 0 && Object.keys(js_exports).length === 0) {\n      run_callbacks();\n      return null;\n    }\n    if (!reloading) {\n      console.debug(\"Bokeh: BokehJS not loaded, scheduling load and callback at\", now());\n    }\n\n    function on_load() {\n      root._bokeh_is_loading--;\n      if (root._bokeh_is_loading === 0) {\n        console.debug(\"Bokeh: all BokehJS libraries/stylesheets loaded\");\n        run_callbacks()\n      }\n    }\n    window._bokeh_on_load = on_load\n\n    function on_error() {\n      console.error(\"failed to load \" + url);\n    }\n\n    var skip = [];\n    if (window.requirejs) {\n      window.requirejs.config({'packages': {}, 'paths': {'jspanel': 'https://cdn.jsdelivr.net/npm/jspanel4@4.12.0/dist/jspanel', 'jspanel-modal': 'https://cdn.jsdelivr.net/npm/jspanel4@4.12.0/dist/extensions/modal/jspanel.modal', 'jspanel-tooltip': 'https://cdn.jsdelivr.net/npm/jspanel4@4.12.0/dist/extensions/tooltip/jspanel.tooltip', 'jspanel-hint': 'https://cdn.jsdelivr.net/npm/jspanel4@4.12.0/dist/extensions/hint/jspanel.hint', 'jspanel-layout': 'https://cdn.jsdelivr.net/npm/jspanel4@4.12.0/dist/extensions/layout/jspanel.layout', 'jspanel-contextmenu': 'https://cdn.jsdelivr.net/npm/jspanel4@4.12.0/dist/extensions/contextmenu/jspanel.contextmenu', 'jspanel-dock': 'https://cdn.jsdelivr.net/npm/jspanel4@4.12.0/dist/extensions/dock/jspanel.dock', 'gridstack': 'https://cdn.jsdelivr.net/npm/gridstack@7.2.3/dist/gridstack-all', 'notyf': 'https://cdn.jsdelivr.net/npm/notyf@3/notyf.min'}, 'shim': {'jspanel': {'exports': 'jsPanel'}, 'gridstack': {'exports': 'GridStack'}}});\n      require([\"jspanel\"], function(jsPanel) {\n\twindow.jsPanel = jsPanel\n\ton_load()\n      })\n      require([\"jspanel-modal\"], function() {\n\ton_load()\n      })\n      require([\"jspanel-tooltip\"], function() {\n\ton_load()\n      })\n      require([\"jspanel-hint\"], function() {\n\ton_load()\n      })\n      require([\"jspanel-layout\"], function() {\n\ton_load()\n      })\n      require([\"jspanel-contextmenu\"], function() {\n\ton_load()\n      })\n      require([\"jspanel-dock\"], function() {\n\ton_load()\n      })\n      require([\"gridstack\"], function(GridStack) {\n\twindow.GridStack = GridStack\n\ton_load()\n      })\n      require([\"notyf\"], function() {\n\ton_load()\n      })\n      root._bokeh_is_loading = css_urls.length + 9;\n    } else {\n      root._bokeh_is_loading = css_urls.length + js_urls.length + js_modules.length + Object.keys(js_exports).length;\n    }\n\n    var existing_stylesheets = []\n    var links = document.getElementsByTagName('link')\n    for (var i = 0; i < links.length; i++) {\n      var link = links[i]\n      if (link.href != null) {\n\texisting_stylesheets.push(link.href)\n      }\n    }\n    for (var i = 0; i < css_urls.length; i++) {\n      var url = css_urls[i];\n      if (existing_stylesheets.indexOf(url) !== -1) {\n\ton_load()\n\tcontinue;\n      }\n      const element = document.createElement(\"link\");\n      element.onload = on_load;\n      element.onerror = on_error;\n      element.rel = \"stylesheet\";\n      element.type = \"text/css\";\n      element.href = url;\n      console.debug(\"Bokeh: injecting link tag for BokehJS stylesheet: \", url);\n      document.body.appendChild(element);\n    }    if (((window['jsPanel'] !== undefined) && (!(window['jsPanel'] instanceof HTMLElement))) || window.requirejs) {\n      var urls = ['https://cdn.holoviz.org/panel/1.3.8/dist/bundled/floatpanel/jspanel4@4.12.0/dist/jspanel.js', 'https://cdn.holoviz.org/panel/1.3.8/dist/bundled/floatpanel/jspanel4@4.12.0/dist/extensions/modal/jspanel.modal.js', 'https://cdn.holoviz.org/panel/1.3.8/dist/bundled/floatpanel/jspanel4@4.12.0/dist/extensions/tooltip/jspanel.tooltip.js', 'https://cdn.holoviz.org/panel/1.3.8/dist/bundled/floatpanel/jspanel4@4.12.0/dist/extensions/hint/jspanel.hint.js', 'https://cdn.holoviz.org/panel/1.3.8/dist/bundled/floatpanel/jspanel4@4.12.0/dist/extensions/layout/jspanel.layout.js', 'https://cdn.holoviz.org/panel/1.3.8/dist/bundled/floatpanel/jspanel4@4.12.0/dist/extensions/contextmenu/jspanel.contextmenu.js', 'https://cdn.holoviz.org/panel/1.3.8/dist/bundled/floatpanel/jspanel4@4.12.0/dist/extensions/dock/jspanel.dock.js'];\n      for (var i = 0; i < urls.length; i++) {\n        skip.push(urls[i])\n      }\n    }    if (((window['GridStack'] !== undefined) && (!(window['GridStack'] instanceof HTMLElement))) || window.requirejs) {\n      var urls = ['https://cdn.holoviz.org/panel/1.3.8/dist/bundled/gridstack/gridstack@7.2.3/dist/gridstack-all.js'];\n      for (var i = 0; i < urls.length; i++) {\n        skip.push(urls[i])\n      }\n    }    if (((window['Notyf'] !== undefined) && (!(window['Notyf'] instanceof HTMLElement))) || window.requirejs) {\n      var urls = ['https://cdn.holoviz.org/panel/1.3.8/dist/bundled/notificationarea/notyf@3/notyf.min.js'];\n      for (var i = 0; i < urls.length; i++) {\n        skip.push(urls[i])\n      }\n    }    var existing_scripts = []\n    var scripts = document.getElementsByTagName('script')\n    for (var i = 0; i < scripts.length; i++) {\n      var script = scripts[i]\n      if (script.src != null) {\n\texisting_scripts.push(script.src)\n      }\n    }\n    for (var i = 0; i < js_urls.length; i++) {\n      var url = js_urls[i];\n      if (skip.indexOf(url) !== -1 || existing_scripts.indexOf(url) !== -1) {\n\tif (!window.requirejs) {\n\t  on_load();\n\t}\n\tcontinue;\n      }\n      var element = document.createElement('script');\n      element.onload = on_load;\n      element.onerror = on_error;\n      element.async = false;\n      element.src = url;\n      console.debug(\"Bokeh: injecting script tag for BokehJS library: \", url);\n      document.head.appendChild(element);\n    }\n    for (var i = 0; i < js_modules.length; i++) {\n      var url = js_modules[i];\n      if (skip.indexOf(url) !== -1 || existing_scripts.indexOf(url) !== -1) {\n\tif (!window.requirejs) {\n\t  on_load();\n\t}\n\tcontinue;\n      }\n      var element = document.createElement('script');\n      element.onload = on_load;\n      element.onerror = on_error;\n      element.async = false;\n      element.src = url;\n      element.type = \"module\";\n      console.debug(\"Bokeh: injecting script tag for BokehJS library: \", url);\n      document.head.appendChild(element);\n    }\n    for (const name in js_exports) {\n      var url = js_exports[name];\n      if (skip.indexOf(url) >= 0 || root[name] != null) {\n\tif (!window.requirejs) {\n\t  on_load();\n\t}\n\tcontinue;\n      }\n      var element = document.createElement('script');\n      element.onerror = on_error;\n      element.async = false;\n      element.type = \"module\";\n      console.debug(\"Bokeh: injecting script tag for BokehJS library: \", url);\n      element.textContent = `\n      import ${name} from \"${url}\"\n      window.${name} = ${name}\n      window._bokeh_on_load()\n      `\n      document.head.appendChild(element);\n    }\n    if (!js_urls.length && !js_modules.length) {\n      on_load()\n    }\n  };\n\n  function inject_raw_css(css) {\n    const element = document.createElement(\"style\");\n    element.appendChild(document.createTextNode(css));\n    document.body.appendChild(element);\n  }\n\n  var js_urls = [\"https://cdn.bokeh.org/bokeh/release/bokeh-3.3.4.min.js\", \"https://cdn.bokeh.org/bokeh/release/bokeh-gl-3.3.4.min.js\", \"https://cdn.bokeh.org/bokeh/release/bokeh-widgets-3.3.4.min.js\", \"https://cdn.bokeh.org/bokeh/release/bokeh-tables-3.3.4.min.js\", \"https://cdn.holoviz.org/panel/1.3.8/dist/panel.min.js\"];\n  var js_modules = [];\n  var js_exports = {};\n  var css_urls = [];\n  var inline_js = [    function(Bokeh) {\n      Bokeh.set_log_level(\"info\");\n    },\nfunction(Bokeh) {} // ensure no trailing comma for IE\n  ];\n\n  function run_inline_js() {\n    if ((root.Bokeh !== undefined) || (force === true)) {\n      for (var i = 0; i < inline_js.length; i++) {\n\ttry {\n          inline_js[i].call(root, root.Bokeh);\n\t} catch(e) {\n\t  if (!reloading) {\n\t    throw e;\n\t  }\n\t}\n      }\n      // Cache old bokeh versions\n      if (Bokeh != undefined && !reloading) {\n\tvar NewBokeh = root.Bokeh;\n\tif (Bokeh.versions === undefined) {\n\t  Bokeh.versions = new Map();\n\t}\n\tif (NewBokeh.version !== Bokeh.version) {\n\t  Bokeh.versions.set(NewBokeh.version, NewBokeh)\n\t}\n\troot.Bokeh = Bokeh;\n      }} else if (Date.now() < root._bokeh_timeout) {\n      setTimeout(run_inline_js, 100);\n    } else if (!root._bokeh_failed_load) {\n      console.log(\"Bokeh: BokehJS failed to load within specified timeout.\");\n      root._bokeh_failed_load = true;\n    }\n    root._bokeh_is_initializing = false\n  }\n\n  function load_or_wait() {\n    // Implement a backoff loop that tries to ensure we do not load multiple\n    // versions of Bokeh and its dependencies at the same time.\n    // In recent versions we use the root._bokeh_is_initializing flag\n    // to determine whether there is an ongoing attempt to initialize\n    // bokeh, however for backward compatibility we also try to ensure\n    // that we do not start loading a newer (Panel>=1.0 and Bokeh>3) version\n    // before older versions are fully initialized.\n    if (root._bokeh_is_initializing && Date.now() > root._bokeh_timeout) {\n      root._bokeh_is_initializing = false;\n      root._bokeh_onload_callbacks = undefined;\n      console.log(\"Bokeh: BokehJS was loaded multiple times but one version failed to initialize.\");\n      load_or_wait();\n    } else if (root._bokeh_is_initializing || (typeof root._bokeh_is_initializing === \"undefined\" && root._bokeh_onload_callbacks !== undefined)) {\n      setTimeout(load_or_wait, 100);\n    } else {\n      root._bokeh_is_initializing = true\n      root._bokeh_onload_callbacks = []\n      var bokeh_loaded = Bokeh != null && (Bokeh.version === py_version || (Bokeh.versions !== undefined && Bokeh.versions.has(py_version)));\n      if (!reloading && !bokeh_loaded) {\n\troot.Bokeh = undefined;\n      }\n      load_libs(css_urls, js_urls, js_modules, js_exports, function() {\n\tconsole.debug(\"Bokeh: BokehJS plotting callback run at\", now());\n\trun_inline_js();\n      });\n    }\n  }\n  // Give older versions of the autoload script a head-start to ensure\n  // they initialize before we start loading newer version.\n  setTimeout(load_or_wait, 100)\n}(window));",
            "application/vnd.holoviews_load.v0+json": ""
          },
          "metadata": {},
          "output_type": "display_data"
        },
        {
          "data": {
            "application/javascript": "\nif ((window.PyViz === undefined) || (window.PyViz instanceof HTMLElement)) {\n  window.PyViz = {comms: {}, comm_status:{}, kernels:{}, receivers: {}, plot_index: []}\n}\n\n\n    function JupyterCommManager() {\n    }\n\n    JupyterCommManager.prototype.register_target = function(plot_id, comm_id, msg_handler) {\n      if (window.comm_manager || ((window.Jupyter !== undefined) && (Jupyter.notebook.kernel != null))) {\n        var comm_manager = window.comm_manager || Jupyter.notebook.kernel.comm_manager;\n        comm_manager.register_target(comm_id, function(comm) {\n          comm.on_msg(msg_handler);\n        });\n      } else if ((plot_id in window.PyViz.kernels) && (window.PyViz.kernels[plot_id])) {\n        window.PyViz.kernels[plot_id].registerCommTarget(comm_id, function(comm) {\n          comm.onMsg = msg_handler;\n        });\n      } else if (typeof google != 'undefined' && google.colab.kernel != null) {\n        google.colab.kernel.comms.registerTarget(comm_id, (comm) => {\n          var messages = comm.messages[Symbol.asyncIterator]();\n          function processIteratorResult(result) {\n            var message = result.value;\n            console.log(message)\n            var content = {data: message.data, comm_id};\n            var buffers = []\n            for (var buffer of message.buffers || []) {\n              buffers.push(new DataView(buffer))\n            }\n            var metadata = message.metadata || {};\n            var msg = {content, buffers, metadata}\n            msg_handler(msg);\n            return messages.next().then(processIteratorResult);\n          }\n          return messages.next().then(processIteratorResult);\n        })\n      }\n    }\n\n    JupyterCommManager.prototype.get_client_comm = function(plot_id, comm_id, msg_handler) {\n      if (comm_id in window.PyViz.comms) {\n        return window.PyViz.comms[comm_id];\n      } else if (window.comm_manager || ((window.Jupyter !== undefined) && (Jupyter.notebook.kernel != null))) {\n        var comm_manager = window.comm_manager || Jupyter.notebook.kernel.comm_manager;\n        var comm = comm_manager.new_comm(comm_id, {}, {}, {}, comm_id);\n        if (msg_handler) {\n          comm.on_msg(msg_handler);\n        }\n      } else if ((plot_id in window.PyViz.kernels) && (window.PyViz.kernels[plot_id])) {\n        var comm = window.PyViz.kernels[plot_id].connectToComm(comm_id);\n        comm.open();\n        if (msg_handler) {\n          comm.onMsg = msg_handler;\n        }\n      } else if (typeof google != 'undefined' && google.colab.kernel != null) {\n        var comm_promise = google.colab.kernel.comms.open(comm_id)\n        comm_promise.then((comm) => {\n          window.PyViz.comms[comm_id] = comm;\n          if (msg_handler) {\n            var messages = comm.messages[Symbol.asyncIterator]();\n            function processIteratorResult(result) {\n              var message = result.value;\n              var content = {data: message.data};\n              var metadata = message.metadata || {comm_id};\n              var msg = {content, metadata}\n              msg_handler(msg);\n              return messages.next().then(processIteratorResult);\n            }\n            return messages.next().then(processIteratorResult);\n          }\n        }) \n        var sendClosure = (data, metadata, buffers, disposeOnDone) => {\n          return comm_promise.then((comm) => {\n            comm.send(data, metadata, buffers, disposeOnDone);\n          });\n        };\n        var comm = {\n          send: sendClosure\n        };\n      }\n      window.PyViz.comms[comm_id] = comm;\n      return comm;\n    }\n    window.PyViz.comm_manager = new JupyterCommManager();\n    \n\n\nvar JS_MIME_TYPE = 'application/javascript';\nvar HTML_MIME_TYPE = 'text/html';\nvar EXEC_MIME_TYPE = 'application/vnd.holoviews_exec.v0+json';\nvar CLASS_NAME = 'output';\n\n/**\n * Render data to the DOM node\n */\nfunction render(props, node) {\n  var div = document.createElement(\"div\");\n  var script = document.createElement(\"script\");\n  node.appendChild(div);\n  node.appendChild(script);\n}\n\n/**\n * Handle when a new output is added\n */\nfunction handle_add_output(event, handle) {\n  var output_area = handle.output_area;\n  var output = handle.output;\n  if ((output.data == undefined) || (!output.data.hasOwnProperty(EXEC_MIME_TYPE))) {\n    return\n  }\n  var id = output.metadata[EXEC_MIME_TYPE][\"id\"];\n  var toinsert = output_area.element.find(\".\" + CLASS_NAME.split(' ')[0]);\n  if (id !== undefined) {\n    var nchildren = toinsert.length;\n    var html_node = toinsert[nchildren-1].children[0];\n    html_node.innerHTML = output.data[HTML_MIME_TYPE];\n    var scripts = [];\n    var nodelist = html_node.querySelectorAll(\"script\");\n    for (var i in nodelist) {\n      if (nodelist.hasOwnProperty(i)) {\n        scripts.push(nodelist[i])\n      }\n    }\n\n    scripts.forEach( function (oldScript) {\n      var newScript = document.createElement(\"script\");\n      var attrs = [];\n      var nodemap = oldScript.attributes;\n      for (var j in nodemap) {\n        if (nodemap.hasOwnProperty(j)) {\n          attrs.push(nodemap[j])\n        }\n      }\n      attrs.forEach(function(attr) { newScript.setAttribute(attr.name, attr.value) });\n      newScript.appendChild(document.createTextNode(oldScript.innerHTML));\n      oldScript.parentNode.replaceChild(newScript, oldScript);\n    });\n    if (JS_MIME_TYPE in output.data) {\n      toinsert[nchildren-1].children[1].textContent = output.data[JS_MIME_TYPE];\n    }\n    output_area._hv_plot_id = id;\n    if ((window.Bokeh !== undefined) && (id in Bokeh.index)) {\n      window.PyViz.plot_index[id] = Bokeh.index[id];\n    } else {\n      window.PyViz.plot_index[id] = null;\n    }\n  } else if (output.metadata[EXEC_MIME_TYPE][\"server_id\"] !== undefined) {\n    var bk_div = document.createElement(\"div\");\n    bk_div.innerHTML = output.data[HTML_MIME_TYPE];\n    var script_attrs = bk_div.children[0].attributes;\n    for (var i = 0; i < script_attrs.length; i++) {\n      toinsert[toinsert.length - 1].childNodes[1].setAttribute(script_attrs[i].name, script_attrs[i].value);\n    }\n    // store reference to server id on output_area\n    output_area._bokeh_server_id = output.metadata[EXEC_MIME_TYPE][\"server_id\"];\n  }\n}\n\n/**\n * Handle when an output is cleared or removed\n */\nfunction handle_clear_output(event, handle) {\n  var id = handle.cell.output_area._hv_plot_id;\n  var server_id = handle.cell.output_area._bokeh_server_id;\n  if (((id === undefined) || !(id in PyViz.plot_index)) && (server_id !== undefined)) { return; }\n  var comm = window.PyViz.comm_manager.get_client_comm(\"hv-extension-comm\", \"hv-extension-comm\", function () {});\n  if (server_id !== null) {\n    comm.send({event_type: 'server_delete', 'id': server_id});\n    return;\n  } else if (comm !== null) {\n    comm.send({event_type: 'delete', 'id': id});\n  }\n  delete PyViz.plot_index[id];\n  if ((window.Bokeh !== undefined) & (id in window.Bokeh.index)) {\n    var doc = window.Bokeh.index[id].model.document\n    doc.clear();\n    const i = window.Bokeh.documents.indexOf(doc);\n    if (i > -1) {\n      window.Bokeh.documents.splice(i, 1);\n    }\n  }\n}\n\n/**\n * Handle kernel restart event\n */\nfunction handle_kernel_cleanup(event, handle) {\n  delete PyViz.comms[\"hv-extension-comm\"];\n  window.PyViz.plot_index = {}\n}\n\n/**\n * Handle update_display_data messages\n */\nfunction handle_update_output(event, handle) {\n  handle_clear_output(event, {cell: {output_area: handle.output_area}})\n  handle_add_output(event, handle)\n}\n\nfunction register_renderer(events, OutputArea) {\n  function append_mime(data, metadata, element) {\n    // create a DOM node to render to\n    var toinsert = this.create_output_subarea(\n    metadata,\n    CLASS_NAME,\n    EXEC_MIME_TYPE\n    );\n    this.keyboard_manager.register_events(toinsert);\n    // Render to node\n    var props = {data: data, metadata: metadata[EXEC_MIME_TYPE]};\n    render(props, toinsert[0]);\n    element.append(toinsert);\n    return toinsert\n  }\n\n  events.on('output_added.OutputArea', handle_add_output);\n  events.on('output_updated.OutputArea', handle_update_output);\n  events.on('clear_output.CodeCell', handle_clear_output);\n  events.on('delete.Cell', handle_clear_output);\n  events.on('kernel_ready.Kernel', handle_kernel_cleanup);\n\n  OutputArea.prototype.register_mime_type(EXEC_MIME_TYPE, append_mime, {\n    safe: true,\n    index: 0\n  });\n}\n\nif (window.Jupyter !== undefined) {\n  try {\n    var events = require('base/js/events');\n    var OutputArea = require('notebook/js/outputarea').OutputArea;\n    if (OutputArea.prototype.mime_types().indexOf(EXEC_MIME_TYPE) == -1) {\n      register_renderer(events, OutputArea);\n    }\n  } catch(err) {\n  }\n}\n",
            "application/vnd.holoviews_load.v0+json": ""
          },
          "metadata": {},
          "output_type": "display_data"
        },
        {
          "data": {
            "text/html": [
              "<style>*[data-root-id],\n",
              "*[data-root-id] > * {\n",
              "  box-sizing: border-box;\n",
              "  font-family: var(--jp-ui-font-family);\n",
              "  font-size: var(--jp-ui-font-size1);\n",
              "  color: var(--vscode-editor-foreground, var(--jp-ui-font-color1));\n",
              "}\n",
              "\n",
              "/* Override VSCode background color */\n",
              ".cell-output-ipywidget-background:has(\n",
              "    > .cell-output-ipywidget-background > .lm-Widget > *[data-root-id]\n",
              "  ),\n",
              ".cell-output-ipywidget-background:has(> .lm-Widget > *[data-root-id]) {\n",
              "  background-color: transparent !important;\n",
              "}\n",
              "</style>"
            ]
          },
          "metadata": {},
          "output_type": "display_data"
        },
        {
          "data": {
            "application/vnd.holoviews_exec.v0+json": "",
            "text/html": [
              "<div id='p1002'>\n",
              "  <div id=\"ea2cb652-613f-4f2d-b0ab-4c46f2f379a4\" data-root-id=\"p1002\" style=\"display: contents;\"></div>\n",
              "</div>\n",
              "<script type=\"application/javascript\">(function(root) {\n",
              "  var docs_json = {\"961be149-ab1b-4364-be04-29a8107824d6\":{\"version\":\"3.3.4\",\"title\":\"Bokeh Application\",\"roots\":[{\"type\":\"object\",\"name\":\"panel.models.browser.BrowserInfo\",\"id\":\"p1002\"},{\"type\":\"object\",\"name\":\"panel.models.comm_manager.CommManager\",\"id\":\"p1003\",\"attributes\":{\"plot_id\":\"p1002\",\"comm_id\":\"8c6f54d33511474e87b8ba19cc9f6437\",\"client_comm_id\":\"14aec71284604c1d975da5b2c558f28e\"}}],\"defs\":[{\"type\":\"model\",\"name\":\"ReactiveHTML1\"},{\"type\":\"model\",\"name\":\"FlexBox1\",\"properties\":[{\"name\":\"align_content\",\"kind\":\"Any\",\"default\":\"flex-start\"},{\"name\":\"align_items\",\"kind\":\"Any\",\"default\":\"flex-start\"},{\"name\":\"flex_direction\",\"kind\":\"Any\",\"default\":\"row\"},{\"name\":\"flex_wrap\",\"kind\":\"Any\",\"default\":\"wrap\"},{\"name\":\"justify_content\",\"kind\":\"Any\",\"default\":\"flex-start\"}]},{\"type\":\"model\",\"name\":\"FloatPanel1\",\"properties\":[{\"name\":\"config\",\"kind\":\"Any\",\"default\":{\"type\":\"map\"}},{\"name\":\"contained\",\"kind\":\"Any\",\"default\":true},{\"name\":\"position\",\"kind\":\"Any\",\"default\":\"right-top\"},{\"name\":\"offsetx\",\"kind\":\"Any\",\"default\":null},{\"name\":\"offsety\",\"kind\":\"Any\",\"default\":null},{\"name\":\"theme\",\"kind\":\"Any\",\"default\":\"primary\"},{\"name\":\"status\",\"kind\":\"Any\",\"default\":\"normalized\"}]},{\"type\":\"model\",\"name\":\"GridStack1\",\"properties\":[{\"name\":\"mode\",\"kind\":\"Any\",\"default\":\"warn\"},{\"name\":\"ncols\",\"kind\":\"Any\",\"default\":null},{\"name\":\"nrows\",\"kind\":\"Any\",\"default\":null},{\"name\":\"allow_resize\",\"kind\":\"Any\",\"default\":true},{\"name\":\"allow_drag\",\"kind\":\"Any\",\"default\":true},{\"name\":\"state\",\"kind\":\"Any\",\"default\":[]}]},{\"type\":\"model\",\"name\":\"drag1\",\"properties\":[{\"name\":\"slider_width\",\"kind\":\"Any\",\"default\":5},{\"name\":\"slider_color\",\"kind\":\"Any\",\"default\":\"black\"},{\"name\":\"value\",\"kind\":\"Any\",\"default\":50}]},{\"type\":\"model\",\"name\":\"click1\",\"properties\":[{\"name\":\"terminal_output\",\"kind\":\"Any\",\"default\":\"\"},{\"name\":\"debug_name\",\"kind\":\"Any\",\"default\":\"\"},{\"name\":\"clears\",\"kind\":\"Any\",\"default\":0}]},{\"type\":\"model\",\"name\":\"copy_to_clipboard1\",\"properties\":[{\"name\":\"fill\",\"kind\":\"Any\",\"default\":\"none\"},{\"name\":\"value\",\"kind\":\"Any\",\"default\":null}]},{\"type\":\"model\",\"name\":\"FastWrapper1\",\"properties\":[{\"name\":\"object\",\"kind\":\"Any\",\"default\":null},{\"name\":\"style\",\"kind\":\"Any\",\"default\":null}]},{\"type\":\"model\",\"name\":\"NotificationAreaBase1\",\"properties\":[{\"name\":\"js_events\",\"kind\":\"Any\",\"default\":{\"type\":\"map\"}},{\"name\":\"position\",\"kind\":\"Any\",\"default\":\"bottom-right\"},{\"name\":\"_clear\",\"kind\":\"Any\",\"default\":0}]},{\"type\":\"model\",\"name\":\"NotificationArea1\",\"properties\":[{\"name\":\"js_events\",\"kind\":\"Any\",\"default\":{\"type\":\"map\"}},{\"name\":\"notifications\",\"kind\":\"Any\",\"default\":[]},{\"name\":\"position\",\"kind\":\"Any\",\"default\":\"bottom-right\"},{\"name\":\"_clear\",\"kind\":\"Any\",\"default\":0},{\"name\":\"types\",\"kind\":\"Any\",\"default\":[{\"type\":\"map\",\"entries\":[[\"type\",\"warning\"],[\"background\",\"#ffc107\"],[\"icon\",{\"type\":\"map\",\"entries\":[[\"className\",\"fas fa-exclamation-triangle\"],[\"tagName\",\"i\"],[\"color\",\"white\"]]}]]},{\"type\":\"map\",\"entries\":[[\"type\",\"info\"],[\"background\",\"#007bff\"],[\"icon\",{\"type\":\"map\",\"entries\":[[\"className\",\"fas fa-info-circle\"],[\"tagName\",\"i\"],[\"color\",\"white\"]]}]]}]}]},{\"type\":\"model\",\"name\":\"Notification\",\"properties\":[{\"name\":\"background\",\"kind\":\"Any\",\"default\":null},{\"name\":\"duration\",\"kind\":\"Any\",\"default\":3000},{\"name\":\"icon\",\"kind\":\"Any\",\"default\":null},{\"name\":\"message\",\"kind\":\"Any\",\"default\":\"\"},{\"name\":\"notification_type\",\"kind\":\"Any\",\"default\":null},{\"name\":\"_destroyed\",\"kind\":\"Any\",\"default\":false}]},{\"type\":\"model\",\"name\":\"TemplateActions1\",\"properties\":[{\"name\":\"open_modal\",\"kind\":\"Any\",\"default\":0},{\"name\":\"close_modal\",\"kind\":\"Any\",\"default\":0}]},{\"type\":\"model\",\"name\":\"BootstrapTemplateActions1\",\"properties\":[{\"name\":\"open_modal\",\"kind\":\"Any\",\"default\":0},{\"name\":\"close_modal\",\"kind\":\"Any\",\"default\":0}]},{\"type\":\"model\",\"name\":\"MaterialTemplateActions1\",\"properties\":[{\"name\":\"open_modal\",\"kind\":\"Any\",\"default\":0},{\"name\":\"close_modal\",\"kind\":\"Any\",\"default\":0}]}]}};\n",
              "  var render_items = [{\"docid\":\"961be149-ab1b-4364-be04-29a8107824d6\",\"roots\":{\"p1002\":\"ea2cb652-613f-4f2d-b0ab-4c46f2f379a4\"},\"root_ids\":[\"p1002\"]}];\n",
              "  var docs = Object.values(docs_json)\n",
              "  if (!docs) {\n",
              "    return\n",
              "  }\n",
              "  const py_version = docs[0].version.replace('rc', '-rc.').replace('.dev', '-dev.')\n",
              "  function embed_document(root) {\n",
              "    var Bokeh = get_bokeh(root)\n",
              "    Bokeh.embed.embed_items_notebook(docs_json, render_items);\n",
              "    for (const render_item of render_items) {\n",
              "      for (const root_id of render_item.root_ids) {\n",
              "\tconst id_el = document.getElementById(root_id)\n",
              "\tif (id_el.children.length && (id_el.children[0].className === 'bk-root')) {\n",
              "\t  const root_el = id_el.children[0]\n",
              "\t  root_el.id = root_el.id + '-rendered'\n",
              "\t}\n",
              "      }\n",
              "    }\n",
              "  }\n",
              "  function get_bokeh(root) {\n",
              "    if (root.Bokeh === undefined) {\n",
              "      return null\n",
              "    } else if (root.Bokeh.version !== py_version) {\n",
              "      if (root.Bokeh.versions === undefined || !root.Bokeh.versions.has(py_version)) {\n",
              "\treturn null\n",
              "      }\n",
              "      return root.Bokeh.versions.get(py_version);\n",
              "    } else if (root.Bokeh.version === py_version) {\n",
              "      return root.Bokeh\n",
              "    }\n",
              "    return null\n",
              "  }\n",
              "  function is_loaded(root) {\n",
              "    var Bokeh = get_bokeh(root)\n",
              "    return (Bokeh != null && Bokeh.Panel !== undefined)\n",
              "  }\n",
              "  if (is_loaded(root)) {\n",
              "    embed_document(root);\n",
              "  } else {\n",
              "    var attempts = 0;\n",
              "    var timer = setInterval(function(root) {\n",
              "      if (is_loaded(root)) {\n",
              "        clearInterval(timer);\n",
              "        embed_document(root);\n",
              "      } else if (document.readyState == \"complete\") {\n",
              "        attempts++;\n",
              "        if (attempts > 200) {\n",
              "          clearInterval(timer);\n",
              "\t  var Bokeh = get_bokeh(root)\n",
              "\t  if (Bokeh == null || Bokeh.Panel == null) {\n",
              "            console.warn(\"Panel: ERROR: Unable to run Panel code because Bokeh or Panel library is missing\");\n",
              "\t  } else {\n",
              "\t    console.warn(\"Panel: WARNING: Attempting to render but not all required libraries could be resolved.\")\n",
              "\t    embed_document(root)\n",
              "\t  }\n",
              "        }\n",
              "      }\n",
              "    }, 25, root)\n",
              "  }\n",
              "})(window);</script>"
            ]
          },
          "metadata": {
            "application/vnd.holoviews_exec.v0+json": {
              "id": "p1002"
            }
          },
          "output_type": "display_data"
        }
      ],
      "source": [
        "# Work with vector data\n",
        "import geopandas as gpd\n",
        "\n",
        "# Save maps and plots to files\n",
        "import holoviews as hv\n",
        "# Create interactive maps and plots\n",
        "import hvplot.pandas\n",
        "\n",
        "# Search for locations by name - this might take a moment\n",
        "from osmnx import features as osm"
      ]
    },
    {
      "cell_type": "markdown",
      "id": "f9505692-f5e7-4163-9ba7-7a08773dc238",
      "metadata": {},
      "source": [
        "### Search for a point of interest\n",
        "\n",
        "You can use the `pyrosm` package to download and search for spatial\n",
        "vector data in your area, or anywhere around the world.\n",
        "\n",
        "In this case, we’re looking for the location of the Haskell Indian Nations University campus in Lawrence, KS. The address in here,\n",
        "`'Haskell Indian Nations University, Lawrence, KS, United States'`, does\n",
        "not have to be complete or exact, but it should be specific enough to\n",
        "narrow it down. We are also specifying that we want it to be tagges as a\n",
        "`'amentity'` type, specifically a `'university'` You might have to try a\n",
        "couple different searches with different addresses and/or tags to get\n",
        "the address you want, just like if you are using a map website or app."
      ]
    },
    {
      "cell_type": "code",
      "execution_count": 3,
      "id": "c4a50a59",
      "metadata": {},
      "outputs": [
        {
          "data": {
            "text/html": [
              "<div>\n",
              "<style scoped>\n",
              "    .dataframe tbody tr th:only-of-type {\n",
              "        vertical-align: middle;\n",
              "    }\n",
              "\n",
              "    .dataframe tbody tr th {\n",
              "        vertical-align: top;\n",
              "    }\n",
              "\n",
              "    .dataframe thead th {\n",
              "        text-align: right;\n",
              "    }\n",
              "</style>\n",
              "<table border=\"1\" class=\"dataframe\">\n",
              "  <thead>\n",
              "    <tr style=\"text-align: right;\">\n",
              "      <th></th>\n",
              "      <th></th>\n",
              "      <th>ways</th>\n",
              "      <th>addr:city</th>\n",
              "      <th>addr:housenumber</th>\n",
              "      <th>addr:postcode</th>\n",
              "      <th>addr:street</th>\n",
              "      <th>amenity</th>\n",
              "      <th>boundary</th>\n",
              "      <th>ele</th>\n",
              "      <th>gnis:feature_id</th>\n",
              "      <th>heritage</th>\n",
              "      <th>...</th>\n",
              "      <th>nrhp:criteria</th>\n",
              "      <th>nrhp:inscription_date</th>\n",
              "      <th>nrhp:nhl</th>\n",
              "      <th>protection_title</th>\n",
              "      <th>ref:nrhp</th>\n",
              "      <th>type</th>\n",
              "      <th>wikidata</th>\n",
              "      <th>wikipedia</th>\n",
              "      <th>nodes</th>\n",
              "      <th>geometry</th>\n",
              "    </tr>\n",
              "    <tr>\n",
              "      <th>element_type</th>\n",
              "      <th>osmid</th>\n",
              "      <th></th>\n",
              "      <th></th>\n",
              "      <th></th>\n",
              "      <th></th>\n",
              "      <th></th>\n",
              "      <th></th>\n",
              "      <th></th>\n",
              "      <th></th>\n",
              "      <th></th>\n",
              "      <th></th>\n",
              "      <th></th>\n",
              "      <th></th>\n",
              "      <th></th>\n",
              "      <th></th>\n",
              "      <th></th>\n",
              "      <th></th>\n",
              "      <th></th>\n",
              "      <th></th>\n",
              "      <th></th>\n",
              "      <th></th>\n",
              "      <th></th>\n",
              "    </tr>\n",
              "  </thead>\n",
              "  <tbody>\n",
              "    <tr>\n",
              "      <th>relation</th>\n",
              "      <th>2330930</th>\n",
              "      <td>[172603550, 174576051, 174576058, 171002778, 1...</td>\n",
              "      <td>Lawrence</td>\n",
              "      <td>2300</td>\n",
              "      <td>66046</td>\n",
              "      <td>Barker Avenue</td>\n",
              "      <td>university</td>\n",
              "      <td>protected_area</td>\n",
              "      <td>268</td>\n",
              "      <td>479134</td>\n",
              "      <td>2</td>\n",
              "      <td>...</td>\n",
              "      <td>(A)</td>\n",
              "      <td>July 4, 1961</td>\n",
              "      <td>yes</td>\n",
              "      <td>protected_site</td>\n",
              "      <td>66000342</td>\n",
              "      <td>multipolygon</td>\n",
              "      <td>Q845332</td>\n",
              "      <td>en:Haskell Indian Nations University</td>\n",
              "      <td>[[[391518501, 1834666320, 1834666332, 12070968...</td>\n",
              "      <td>POLYGON ((-95.23831 38.93552, -95.23817 38.935...</td>\n",
              "    </tr>\n",
              "  </tbody>\n",
              "</table>\n",
              "<p>1 rows × 22 columns</p>\n",
              "</div>"
            ],
            "text/plain": [
              "                                                                   ways  \\\n",
              "element_type osmid                                                        \n",
              "relation     2330930  [172603550, 174576051, 174576058, 171002778, 1...   \n",
              "\n",
              "                     addr:city addr:housenumber addr:postcode    addr:street  \\\n",
              "element_type osmid                                                             \n",
              "relation     2330930  Lawrence             2300         66046  Barker Avenue   \n",
              "\n",
              "                         amenity        boundary  ele gnis:feature_id  \\\n",
              "element_type osmid                                                      \n",
              "relation     2330930  university  protected_area  268          479134   \n",
              "\n",
              "                     heritage  ... nrhp:criteria nrhp:inscription_date  \\\n",
              "element_type osmid             ...                                       \n",
              "relation     2330930        2  ...           (A)          July 4, 1961   \n",
              "\n",
              "                     nrhp:nhl protection_title  ref:nrhp          type  \\\n",
              "element_type osmid                                                       \n",
              "relation     2330930      yes   protected_site  66000342  multipolygon   \n",
              "\n",
              "                     wikidata                             wikipedia  \\\n",
              "element_type osmid                                                    \n",
              "relation     2330930  Q845332  en:Haskell Indian Nations University   \n",
              "\n",
              "                                                                  nodes  \\\n",
              "element_type osmid                                                        \n",
              "relation     2330930  [[[391518501, 1834666320, 1834666332, 12070968...   \n",
              "\n",
              "                                                               geometry  \n",
              "element_type osmid                                                       \n",
              "relation     2330930  POLYGON ((-95.23831 38.93552, -95.23817 38.935...  \n",
              "\n",
              "[1 rows x 22 columns]"
            ]
          },
          "execution_count": 3,
          "metadata": {},
          "output_type": "execute_result"
        }
      ],
      "source": [
        "# Search for United Tribes Technical College\n",
        "haskell_gdf = osm.features_from_address(\n",
        "    'Haskell Indian Nations University, Lawrence, KS, United States',\n",
        "    {'amenity': ['university']})\n",
        "haskell_gdf"
      ]
    },
    {
      "cell_type": "code",
      "execution_count": 4,
      "id": "8aa08622",
      "metadata": {},
      "outputs": [
        {
          "data": {
            "text/plain": [
              "<Axes: >"
            ]
          },
          "execution_count": 4,
          "metadata": {},
          "output_type": "execute_result"
        },
        {
          "data": {
            "image/png": "[encoded data removed]",
            "text/plain": [
              "<Figure size 640x480 with 1 Axes>"
            ]
          },
          "metadata": {},
          "output_type": "display_data"
        }
      ],
      "source": [
        "haskell_gdf.plot()"
      ]
    },
    {
      "cell_type": "markdown",
      "id": "eaafd823-c1f1-46f2-96e2-486a405e9ef5",
      "metadata": {},
      "source": [
        "We have a map of the Haskell Campus!\n",
        "\n",
        "### Create an interactive map\n",
        "\n",
        "There are lots of different ways to create maps and plots in Python.\n",
        "Here, we’re going to use a tool called `'hvplot'` and `'geoviews'` to\n",
        "create an interactive map, including the online `'EsriImagery'` tile\n",
        "source basemap."
      ]
    },
    {
      "cell_type": "code",
      "execution_count": 5,
      "id": "8176d4d3",
      "metadata": {},
      "outputs": [
        {
          "name": "stderr",
          "output_type": "stream",
          "text": [
            "/opt/conda/lib/python3.11/site-packages/dask/dataframe/__init__.py:31: FutureWarning: \n",
            "Dask dataframe query planning is disabled because dask-expr is not installed.\n",
            "\n",
            "You can install it with `pip install dask[dataframe]` or `conda install dask`.\n",
            "This will raise in a future version.\n",
            "\n",
            "  warnings.warn(msg, FutureWarning)\n",
            "WARNING:bokeh.core.validation.check:W-1005 (FIXED_SIZING_MODE): 'fixed' sizing mode requires width and height to be set: figure(id='p1043', ...)\n"
          ]
        },
        {
          "data": {},
          "metadata": {},
          "output_type": "display_data"
        },
        {
          "data": {
            "application/vnd.holoviews_exec.v0+json": "",
            "text/html": [
              "<div id='p1099'>\n",
              "  <div id=\"cc3d41d8-283f-4133-8c5f-7fdbeda9e5ba\" data-root-id=\"p1099\" style=\"display: contents;\"></div>\n",
              "</div>\n",
              "<script type=\"application/javascript\">(function(root) {\n",
              "  var docs_json = {\"9678cd50-7a06-43bf-90ab-f48535f668b1\":{\"version\":\"3.3.4\",\"title\":\"Bokeh Application\",\"roots\":[{\"type\":\"object\",\"name\":\"Row\",\"id\":\"p1099\",\"attributes\":{\"name\":\"Row01784\",\"tags\":[\"embedded\"],\"stylesheets\":[\"\\n:host(.pn-loading.pn-arc):before, .pn-loading.pn-arc:before {\\n  background-image: url(\\\"data:image/svg+xml;base64,PHN2ZyB4bWxucz0iaHR0cDovL3d3dy53My5vcmcvMjAwMC9zdmciIHN0eWxlPSJtYXJnaW46IGF1dG87IGJhY2tncm91bmQ6IG5vbmU7IGRpc3BsYXk6IGJsb2NrOyBzaGFwZS1yZW5kZXJpbmc6IGF1dG87IiB2aWV3Qm94PSIwIDAgMTAwIDEwMCIgcHJlc2VydmVBc3BlY3RSYXRpbz0ieE1pZFlNaWQiPiAgPGNpcmNsZSBjeD0iNTAiIGN5PSI1MCIgZmlsbD0ibm9uZSIgc3Ryb2tlPSIjYzNjM2MzIiBzdHJva2Utd2lkdGg9IjEwIiByPSIzNSIgc3Ryb2tlLWRhc2hhcnJheT0iMTY0LjkzMzYxNDMxMzQ2NDE1IDU2Ljk3Nzg3MTQzNzgyMTM4Ij4gICAgPGFuaW1hdGVUcmFuc2Zvcm0gYXR0cmlidXRlTmFtZT0idHJhbnNmb3JtIiB0eXBlPSJyb3RhdGUiIHJlcGVhdENvdW50PSJpbmRlZmluaXRlIiBkdXI9IjFzIiB2YWx1ZXM9IjAgNTAgNTA7MzYwIDUwIDUwIiBrZXlUaW1lcz0iMDsxIj48L2FuaW1hdGVUcmFuc2Zvcm0+ICA8L2NpcmNsZT48L3N2Zz4=\\\");\\n  background-size: auto calc(min(50%, 400px));\\n}\",{\"type\":\"object\",\"name\":\"ImportedStyleSheet\",\"id\":\"p1102\",\"attributes\":{\"url\":\"https://cdn.holoviz.org/panel/1.3.8/dist/css/loading.css\"}},{\"type\":\"object\",\"name\":\"ImportedStyleSheet\",\"id\":\"p1182\",\"attributes\":{\"url\":\"https://cdn.holoviz.org/panel/1.3.8/dist/css/listpanel.css\"}},{\"type\":\"object\",\"name\":\"ImportedStyleSheet\",\"id\":\"p1100\",\"attributes\":{\"url\":\"https://cdn.holoviz.org/panel/1.3.8/dist/bundled/theme/default.css\"}},{\"type\":\"object\",\"name\":\"ImportedStyleSheet\",\"id\":\"p1101\",\"attributes\":{\"url\":\"https://cdn.holoviz.org/panel/1.3.8/dist/bundled/theme/native.css\"}}],\"margin\":0,\"sizing_mode\":\"stretch_width\",\"align\":\"start\",\"children\":[{\"type\":\"object\",\"name\":\"Spacer\",\"id\":\"p1103\",\"attributes\":{\"name\":\"HSpacer01789\",\"stylesheets\":[\"\\n:host(.pn-loading.pn-arc):before, .pn-loading.pn-arc:before {\\n  background-image: url(\\\"data:image/svg+xml;base64,PHN2ZyB4bWxucz0iaHR0cDovL3d3dy53My5vcmcvMjAwMC9zdmciIHN0eWxlPSJtYXJnaW46IGF1dG87IGJhY2tncm91bmQ6IG5vbmU7IGRpc3BsYXk6IGJsb2NrOyBzaGFwZS1yZW5kZXJpbmc6IGF1dG87IiB2aWV3Qm94PSIwIDAgMTAwIDEwMCIgcHJlc2VydmVBc3BlY3RSYXRpbz0ieE1pZFlNaWQiPiAgPGNpcmNsZSBjeD0iNTAiIGN5PSI1MCIgZmlsbD0ibm9uZSIgc3Ryb2tlPSIjYzNjM2MzIiBzdHJva2Utd2lkdGg9IjEwIiByPSIzNSIgc3Ryb2tlLWRhc2hhcnJheT0iMTY0LjkzMzYxNDMxMzQ2NDE1IDU2Ljk3Nzg3MTQzNzgyMTM4Ij4gICAgPGFuaW1hdGVUcmFuc2Zvcm0gYXR0cmlidXRlTmFtZT0idHJhbnNmb3JtIiB0eXBlPSJyb3RhdGUiIHJlcGVhdENvdW50PSJpbmRlZmluaXRlIiBkdXI9IjFzIiB2YWx1ZXM9IjAgNTAgNTA7MzYwIDUwIDUwIiBrZXlUaW1lcz0iMDsxIj48L2FuaW1hdGVUcmFuc2Zvcm0+ICA8L2NpcmNsZT48L3N2Zz4=\\\");\\n  background-size: auto calc(min(50%, 400px));\\n}\",{\"id\":\"p1102\"},{\"id\":\"p1100\"},{\"id\":\"p1101\"}],\"margin\":0,\"sizing_mode\":\"stretch_width\",\"align\":\"start\"}},{\"type\":\"object\",\"name\":\"Figure\",\"id\":\"p1131\",\"attributes\":{\"width\":null,\"height\":null,\"margin\":[5,10],\"sizing_mode\":\"fixed\",\"align\":\"start\",\"x_range\":{\"type\":\"object\",\"name\":\"Range1d\",\"id\":\"p1113\",\"attributes\":{\"tags\":[[[\"Longitude\",\"Longitude\",null]],[]],\"start\":-10602636.877504628,\"end\":-10599981.16396454,\"reset_start\":-10602636.877504628,\"reset_end\":-10599981.16396454,\"min_interval\":5}},\"y_range\":{\"type\":\"object\",\"name\":\"Range1d\",\"id\":\"p1114\",\"attributes\":{\"tags\":[[[\"Latitude\",\"Latitude\",null]],{\"type\":\"map\",\"entries\":[[\"invert_yaxis\",false],[\"autorange\",false]]}],\"start\":4711028.175468744,\"end\":4713683.889008831,\"reset_start\":4711028.175468744,\"reset_end\":4713683.889008831,\"min_interval\":5}},\"x_scale\":{\"type\":\"object\",\"name\":\"LinearScale\",\"id\":\"p1141\"},\"y_scale\":{\"type\":\"object\",\"name\":\"LinearScale\",\"id\":\"p1142\"},\"title\":{\"type\":\"object\",\"name\":\"Title\",\"id\":\"p1134\",\"attributes\":{\"text\":\"Haskell Indian Nations Universty, Lawrence, KS\",\"text_color\":\"black\",\"text_font_size\":\"12pt\"}},\"renderers\":[{\"type\":\"object\",\"name\":\"TileRenderer\",\"id\":\"p1164\",\"attributes\":{\"level\":\"underlay\",\"tile_source\":{\"type\":\"object\",\"name\":\"WMTSTileSource\",\"id\":\"p1160\",\"attributes\":{\"url\":\"https://server.arcgisonline.com/ArcGIS/rest/services/World_Imagery/MapServer/tile/{Z}/{Y}/{X}.jpg\",\"attribution\":\"&copy; <a href=\\\"http://downloads.esri.com/ArcGISOnline/docs/tou_summary.pdf\\\">Esri</a>, Earthstar Geographics\"}}}},{\"type\":\"object\",\"name\":\"GlyphRenderer\",\"id\":\"p1175\",\"attributes\":{\"data_source\":{\"type\":\"object\",\"name\":\"ColumnDataSource\",\"id\":\"p1166\",\"attributes\":{\"selected\":{\"type\":\"object\",\"name\":\"Selection\",\"id\":\"p1167\",\"attributes\":{\"indices\":[],\"line_indices\":[]}},\"selection_policy\":{\"type\":\"object\",\"name\":\"UnionRenderers\",\"id\":\"p1168\"},\"data\":{\"type\":\"map\",\"entries\":[[\"xs\",[[[{\"type\":\"ndarray\",\"array\":{\"type\":\"bytes\",\"data\":\"/ZXJ+bI4ZMHz+nECsThkwcAaaIKpOGTBhjVa5KY4ZMG8WTrdpjhkwY9Mv9WmOGTBHJnC0KY4ZMEOFyHMpjhkwWHG2semOGTBtXWUw6Y4ZMEYLoa9pjhkwWvdP7mmOGTBwIz5tKY4ZMF4bQ6xpjhkwcscyKymOGTBIMyBqKY4ZMF0ezukpjhkwbohvaGmOGTBHgxhO6U4ZMEEck0NpDhkwSrSkv6iOGTBxKToKaI4ZMHUHA5noThkwQYXnhehOGTBJKJ3GqE4ZMGoZlQvmjhkweZ4GQ+QOGTBaturVI44ZMGjA8OEdzhkwRH7T0h1OGTBfoPvzHM4ZMFS793LczhkwVJ2dMVzOGTBsy5mv3M4ZMF+s0oCZThkwdtB7LNkOGTB9sb6GmM4ZMFCpX9fTThkweKLE9RIOGTBfpbmOkg4ZME2cj3TRzhkwbMEIo5HOGTBnpCtfEc4ZMGzBCKORzhkwQStA7ZEOGTBh/KrKDw4ZMEGFM/uNDhkwVo2J1UzOGTBFf6FXjE4ZMH4bOG/Lzhkwcgm3EQuOGTB8XfnCiw4ZMEy71pcKzhkwQHfuKwnOGTB1sIDeiY4ZMGzA15nJThkwXGQm0ElOGTBcBcyOyU4ZMEsIYpHJDhkwY8R+XwkOGTBvxBHkSQ4ZMEIrln/JDhkwcgxKEolOGTBnmHo4SU4ZMEa6SXBsjhkwRtij8eyOGTByCs/0rI4ZMGgEJfXsjhkwQc0xeSyOGTB/ZXJ+bI4ZME=\"},\"shape\":[70],\"dtype\":\"float64\",\"order\":\"little\"}]]]],[\"ys\",[[[{\"type\":\"ndarray\",\"array\":{\"type\":\"bytes\",\"data\":\"07Dz//35UUH0iQv0/flRQTSDq8H9+VFBmIVEsP35UUEuS31LCfpRQfzp6pIV+lFBsK9Hbh36UUGmh5BKJfpRQfKl+Sos+lFB7fxjCzP6UUGxyQVcPfpRQZyziDtE+lFB3FD3G0v6UUHUJmf8UfpRQX812NxY+lFB4HxKvV/6UUH2/L2dZvpRQUjJvm1x+lFBliHEk3L6UUHMnhTtc/pRQWHXtlh1+lFB/UYNa3f6UUGTQMzKevpRQZO00KR9+lFBjXn0ZqH6UUGf5F1tofpRQb7Ghnah+lFBTko5TqH6UUEdrcC6oPpRQVIHRp+g+lFB3aOkb6D6UUH+sbgHo/pRQeeIBGmx+lFBranUz7/6UUF3qD1pv/pRQeREQK79+lFBuknBqP36UUHK8Ohf/PpRQcTrZ2X8+lFBwKq0IPz6UUEHnzaj+/pRQbECTrL6+lFBt/mns/n6UUG3XBvv9fpRQYZwydz1+lFBbkFtN/T6UUHtTUPc8vpRQc4svYry+lFBIPveR/L6UUGoEI018vpRQagQjTXy+lFBAc5XbvL6UUF0p1GP8vpRQZnZBUHz+lFBSpR6ffP6UUEIu/SX7/pRQbfOxtlr+lFBL/N9hzD6UUG/n9RiGvpRQS2Djc/d+VFBlALt0sb5UUGTnvmQSvlRQTVlScL1+FFBjqTgVdT4UUHv6srZ4fhRQfCvnREC+VFBSMq+YTj5UUEXVqwqU/lRQQ8wJS6V+VFB07Dz//35UUE=\"},\"shape\":[70],\"dtype\":\"float64\",\"order\":\"little\"}]]]]]}}},\"view\":{\"type\":\"object\",\"name\":\"CDSView\",\"id\":\"p1176\",\"attributes\":{\"filter\":{\"type\":\"object\",\"name\":\"AllIndices\",\"id\":\"p1177\"}}},\"glyph\":{\"type\":\"object\",\"name\":\"MultiPolygons\",\"id\":\"p1172\",\"attributes\":{\"xs\":{\"type\":\"field\",\"field\":\"xs\"},\"ys\":{\"type\":\"field\",\"field\":\"ys\"},\"line_color\":{\"type\":\"value\",\"value\":\"skyblue\"},\"line_width\":{\"type\":\"value\",\"value\":5},\"fill_color\":{\"type\":\"value\",\"value\":\"white\"},\"fill_alpha\":{\"type\":\"value\",\"value\":0.2},\"hatch_color\":{\"type\":\"value\",\"value\":\"#30a2da\"}}},\"selection_glyph\":{\"type\":\"object\",\"name\":\"MultiPolygons\",\"id\":\"p1178\",\"attributes\":{\"xs\":{\"type\":\"field\",\"field\":\"xs\"},\"ys\":{\"type\":\"field\",\"field\":\"ys\"},\"line_color\":{\"type\":\"value\",\"value\":\"skyblue\"},\"line_alpha\":{\"type\":\"value\",\"value\":1.0},\"line_width\":{\"type\":\"value\",\"value\":5},\"line_join\":{\"type\":\"value\",\"value\":\"bevel\"},\"line_cap\":{\"type\":\"value\",\"value\":\"butt\"},\"line_dash\":{\"type\":\"value\",\"value\":[]},\"line_dash_offset\":{\"type\":\"value\",\"value\":0},\"fill_color\":{\"type\":\"value\",\"value\":\"white\"},\"fill_alpha\":{\"type\":\"value\",\"value\":0.2},\"hatch_color\":{\"type\":\"value\",\"value\":\"#30a2da\"},\"hatch_alpha\":{\"type\":\"value\",\"value\":1.0},\"hatch_scale\":{\"type\":\"value\",\"value\":12.0},\"hatch_pattern\":{\"type\":\"value\",\"value\":null},\"hatch_weight\":{\"type\":\"value\",\"value\":1.0}}},\"nonselection_glyph\":{\"type\":\"object\",\"name\":\"MultiPolygons\",\"id\":\"p1173\",\"attributes\":{\"xs\":{\"type\":\"field\",\"field\":\"xs\"},\"ys\":{\"type\":\"field\",\"field\":\"ys\"},\"line_color\":{\"type\":\"value\",\"value\":\"skyblue\"},\"line_alpha\":{\"type\":\"value\",\"value\":0.1},\"line_width\":{\"type\":\"value\",\"value\":5},\"fill_color\":{\"type\":\"value\",\"value\":\"white\"},\"fill_alpha\":{\"type\":\"value\",\"value\":0.2},\"hatch_color\":{\"type\":\"value\",\"value\":\"#30a2da\"},\"hatch_alpha\":{\"type\":\"value\",\"value\":0.1}}},\"muted_glyph\":{\"type\":\"object\",\"name\":\"MultiPolygons\",\"id\":\"p1174\",\"attributes\":{\"xs\":{\"type\":\"field\",\"field\":\"xs\"},\"ys\":{\"type\":\"field\",\"field\":\"ys\"},\"line_color\":{\"type\":\"value\",\"value\":\"skyblue\"},\"line_alpha\":{\"type\":\"value\",\"value\":0.2},\"line_width\":{\"type\":\"value\",\"value\":5},\"fill_color\":{\"type\":\"value\",\"value\":\"white\"},\"fill_alpha\":{\"type\":\"value\",\"value\":0.2},\"hatch_color\":{\"type\":\"value\",\"value\":\"#30a2da\"},\"hatch_alpha\":{\"type\":\"value\",\"value\":0.2}}}}}],\"toolbar\":{\"type\":\"object\",\"name\":\"Toolbar\",\"id\":\"p1140\",\"attributes\":{\"tools\":[{\"type\":\"object\",\"name\":\"WheelZoomTool\",\"id\":\"p1117\",\"attributes\":{\"renderers\":\"auto\",\"zoom_on_axis\":false}},{\"type\":\"object\",\"name\":\"BoxZoomTool\",\"id\":\"p1118\",\"attributes\":{\"overlay\":{\"type\":\"object\",\"name\":\"BoxAnnotation\",\"id\":\"p1006\",\"attributes\":{\"syncable\":false,\"level\":\"overlay\",\"visible\":false,\"left\":{\"type\":\"number\",\"value\":\"nan\"},\"right\":{\"type\":\"number\",\"value\":\"nan\"},\"top\":{\"type\":\"number\",\"value\":\"nan\"},\"bottom\":{\"type\":\"number\",\"value\":\"nan\"},\"left_units\":\"canvas\",\"right_units\":\"canvas\",\"top_units\":\"canvas\",\"bottom_units\":\"canvas\",\"line_color\":\"black\",\"line_alpha\":1.0,\"line_width\":2,\"line_dash\":[4,4],\"fill_color\":\"lightgrey\",\"fill_alpha\":0.5}},\"match_aspect\":true}},{\"type\":\"object\",\"name\":\"PanTool\",\"id\":\"p1154\"},{\"type\":\"object\",\"name\":\"ResetTool\",\"id\":\"p1155\"}],\"active_drag\":{\"id\":\"p1154\"}}},\"left\":[{\"type\":\"object\",\"name\":\"LinearAxis\",\"id\":\"p1148\",\"attributes\":{\"ticker\":{\"type\":\"object\",\"name\":\"MercatorTicker\",\"id\":\"p1158\",\"attributes\":{\"mantissas\":[1,2,5],\"dimension\":\"lat\"}},\"formatter\":{\"type\":\"object\",\"name\":\"MercatorTickFormatter\",\"id\":\"p1159\",\"attributes\":{\"dimension\":\"lat\"}},\"axis_label\":\"Latitude\",\"major_label_policy\":{\"type\":\"object\",\"name\":\"AllLabels\",\"id\":\"p1151\"}}}],\"below\":[{\"type\":\"object\",\"name\":\"LinearAxis\",\"id\":\"p1143\",\"attributes\":{\"ticker\":{\"type\":\"object\",\"name\":\"MercatorTicker\",\"id\":\"p1156\",\"attributes\":{\"mantissas\":[1,2,5],\"dimension\":\"lon\"}},\"formatter\":{\"type\":\"object\",\"name\":\"MercatorTickFormatter\",\"id\":\"p1157\",\"attributes\":{\"dimension\":\"lon\"}},\"axis_label\":\"Longitude\",\"major_label_policy\":{\"type\":\"object\",\"name\":\"AllLabels\",\"id\":\"p1146\"}}}],\"center\":[{\"type\":\"object\",\"name\":\"Grid\",\"id\":\"p1147\",\"attributes\":{\"axis\":{\"id\":\"p1143\"},\"grid_line_color\":null}},{\"type\":\"object\",\"name\":\"Grid\",\"id\":\"p1152\",\"attributes\":{\"dimension\":1,\"axis\":{\"id\":\"p1148\"},\"grid_line_color\":null}}],\"frame_width\":400,\"frame_height\":400,\"min_border_top\":10,\"min_border_bottom\":10,\"min_border_left\":10,\"min_border_right\":10,\"output_backend\":\"webgl\",\"match_aspect\":true}},{\"type\":\"object\",\"name\":\"Spacer\",\"id\":\"p1180\",\"attributes\":{\"name\":\"HSpacer01790\",\"stylesheets\":[\"\\n:host(.pn-loading.pn-arc):before, .pn-loading.pn-arc:before {\\n  background-image: url(\\\"data:image/svg+xml;base64,PHN2ZyB4bWxucz0iaHR0cDovL3d3dy53My5vcmcvMjAwMC9zdmciIHN0eWxlPSJtYXJnaW46IGF1dG87IGJhY2tncm91bmQ6IG5vbmU7IGRpc3BsYXk6IGJsb2NrOyBzaGFwZS1yZW5kZXJpbmc6IGF1dG87IiB2aWV3Qm94PSIwIDAgMTAwIDEwMCIgcHJlc2VydmVBc3BlY3RSYXRpbz0ieE1pZFlNaWQiPiAgPGNpcmNsZSBjeD0iNTAiIGN5PSI1MCIgZmlsbD0ibm9uZSIgc3Ryb2tlPSIjYzNjM2MzIiBzdHJva2Utd2lkdGg9IjEwIiByPSIzNSIgc3Ryb2tlLWRhc2hhcnJheT0iMTY0LjkzMzYxNDMxMzQ2NDE1IDU2Ljk3Nzg3MTQzNzgyMTM4Ij4gICAgPGFuaW1hdGVUcmFuc2Zvcm0gYXR0cmlidXRlTmFtZT0idHJhbnNmb3JtIiB0eXBlPSJyb3RhdGUiIHJlcGVhdENvdW50PSJpbmRlZmluaXRlIiBkdXI9IjFzIiB2YWx1ZXM9IjAgNTAgNTA7MzYwIDUwIDUwIiBrZXlUaW1lcz0iMDsxIj48L2FuaW1hdGVUcmFuc2Zvcm0+ICA8L2NpcmNsZT48L3N2Zz4=\\\");\\n  background-size: auto calc(min(50%, 400px));\\n}\",{\"id\":\"p1102\"},{\"id\":\"p1100\"},{\"id\":\"p1101\"}],\"margin\":0,\"sizing_mode\":\"stretch_width\",\"align\":\"start\"}}]}}],\"defs\":[{\"type\":\"model\",\"name\":\"ReactiveHTML1\"},{\"type\":\"model\",\"name\":\"FlexBox1\",\"properties\":[{\"name\":\"align_content\",\"kind\":\"Any\",\"default\":\"flex-start\"},{\"name\":\"align_items\",\"kind\":\"Any\",\"default\":\"flex-start\"},{\"name\":\"flex_direction\",\"kind\":\"Any\",\"default\":\"row\"},{\"name\":\"flex_wrap\",\"kind\":\"Any\",\"default\":\"wrap\"},{\"name\":\"justify_content\",\"kind\":\"Any\",\"default\":\"flex-start\"}]},{\"type\":\"model\",\"name\":\"FloatPanel1\",\"properties\":[{\"name\":\"config\",\"kind\":\"Any\",\"default\":{\"type\":\"map\"}},{\"name\":\"contained\",\"kind\":\"Any\",\"default\":true},{\"name\":\"position\",\"kind\":\"Any\",\"default\":\"right-top\"},{\"name\":\"offsetx\",\"kind\":\"Any\",\"default\":null},{\"name\":\"offsety\",\"kind\":\"Any\",\"default\":null},{\"name\":\"theme\",\"kind\":\"Any\",\"default\":\"primary\"},{\"name\":\"status\",\"kind\":\"Any\",\"default\":\"normalized\"}]},{\"type\":\"model\",\"name\":\"GridStack1\",\"properties\":[{\"name\":\"mode\",\"kind\":\"Any\",\"default\":\"warn\"},{\"name\":\"ncols\",\"kind\":\"Any\",\"default\":null},{\"name\":\"nrows\",\"kind\":\"Any\",\"default\":null},{\"name\":\"allow_resize\",\"kind\":\"Any\",\"default\":true},{\"name\":\"allow_drag\",\"kind\":\"Any\",\"default\":true},{\"name\":\"state\",\"kind\":\"Any\",\"default\":[]}]},{\"type\":\"model\",\"name\":\"drag1\",\"properties\":[{\"name\":\"slider_width\",\"kind\":\"Any\",\"default\":5},{\"name\":\"slider_color\",\"kind\":\"Any\",\"default\":\"black\"},{\"name\":\"value\",\"kind\":\"Any\",\"default\":50}]},{\"type\":\"model\",\"name\":\"click1\",\"properties\":[{\"name\":\"terminal_output\",\"kind\":\"Any\",\"default\":\"\"},{\"name\":\"debug_name\",\"kind\":\"Any\",\"default\":\"\"},{\"name\":\"clears\",\"kind\":\"Any\",\"default\":0}]},{\"type\":\"model\",\"name\":\"copy_to_clipboard1\",\"properties\":[{\"name\":\"fill\",\"kind\":\"Any\",\"default\":\"none\"},{\"name\":\"value\",\"kind\":\"Any\",\"default\":null}]},{\"type\":\"model\",\"name\":\"FastWrapper1\",\"properties\":[{\"name\":\"object\",\"kind\":\"Any\",\"default\":null},{\"name\":\"style\",\"kind\":\"Any\",\"default\":null}]},{\"type\":\"model\",\"name\":\"NotificationAreaBase1\",\"properties\":[{\"name\":\"js_events\",\"kind\":\"Any\",\"default\":{\"type\":\"map\"}},{\"name\":\"position\",\"kind\":\"Any\",\"default\":\"bottom-right\"},{\"name\":\"_clear\",\"kind\":\"Any\",\"default\":0}]},{\"type\":\"model\",\"name\":\"NotificationArea1\",\"properties\":[{\"name\":\"js_events\",\"kind\":\"Any\",\"default\":{\"type\":\"map\"}},{\"name\":\"notifications\",\"kind\":\"Any\",\"default\":[]},{\"name\":\"position\",\"kind\":\"Any\",\"default\":\"bottom-right\"},{\"name\":\"_clear\",\"kind\":\"Any\",\"default\":0},{\"name\":\"types\",\"kind\":\"Any\",\"default\":[{\"type\":\"map\",\"entries\":[[\"type\",\"warning\"],[\"background\",\"#ffc107\"],[\"icon\",{\"type\":\"map\",\"entries\":[[\"className\",\"fas fa-exclamation-triangle\"],[\"tagName\",\"i\"],[\"color\",\"white\"]]}]]},{\"type\":\"map\",\"entries\":[[\"type\",\"info\"],[\"background\",\"#007bff\"],[\"icon\",{\"type\":\"map\",\"entries\":[[\"className\",\"fas fa-info-circle\"],[\"tagName\",\"i\"],[\"color\",\"white\"]]}]]}]}]},{\"type\":\"model\",\"name\":\"Notification\",\"properties\":[{\"name\":\"background\",\"kind\":\"Any\",\"default\":null},{\"name\":\"duration\",\"kind\":\"Any\",\"default\":3000},{\"name\":\"icon\",\"kind\":\"Any\",\"default\":null},{\"name\":\"message\",\"kind\":\"Any\",\"default\":\"\"},{\"name\":\"notification_type\",\"kind\":\"Any\",\"default\":null},{\"name\":\"_destroyed\",\"kind\":\"Any\",\"default\":false}]},{\"type\":\"model\",\"name\":\"TemplateActions1\",\"properties\":[{\"name\":\"open_modal\",\"kind\":\"Any\",\"default\":0},{\"name\":\"close_modal\",\"kind\":\"Any\",\"default\":0}]},{\"type\":\"model\",\"name\":\"BootstrapTemplateActions1\",\"properties\":[{\"name\":\"open_modal\",\"kind\":\"Any\",\"default\":0},{\"name\":\"close_modal\",\"kind\":\"Any\",\"default\":0}]},{\"type\":\"model\",\"name\":\"MaterialTemplateActions1\",\"properties\":[{\"name\":\"open_modal\",\"kind\":\"Any\",\"default\":0},{\"name\":\"close_modal\",\"kind\":\"Any\",\"default\":0}]}]}};\n",
              "  var render_items = [{\"docid\":\"9678cd50-7a06-43bf-90ab-f48535f668b1\",\"roots\":{\"p1099\":\"cc3d41d8-283f-4133-8c5f-7fdbeda9e5ba\"},\"root_ids\":[\"p1099\"]}];\n",
              "  var docs = Object.values(docs_json)\n",
              "  if (!docs) {\n",
              "    return\n",
              "  }\n",
              "  const py_version = docs[0].version.replace('rc', '-rc.').replace('.dev', '-dev.')\n",
              "  function embed_document(root) {\n",
              "    var Bokeh = get_bokeh(root)\n",
              "    Bokeh.embed.embed_items_notebook(docs_json, render_items);\n",
              "    for (const render_item of render_items) {\n",
              "      for (const root_id of render_item.root_ids) {\n",
              "\tconst id_el = document.getElementById(root_id)\n",
              "\tif (id_el.children.length && (id_el.children[0].className === 'bk-root')) {\n",
              "\t  const root_el = id_el.children[0]\n",
              "\t  root_el.id = root_el.id + '-rendered'\n",
              "\t}\n",
              "      }\n",
              "    }\n",
              "  }\n",
              "  function get_bokeh(root) {\n",
              "    if (root.Bokeh === undefined) {\n",
              "      return null\n",
              "    } else if (root.Bokeh.version !== py_version) {\n",
              "      if (root.Bokeh.versions === undefined || !root.Bokeh.versions.has(py_version)) {\n",
              "\treturn null\n",
              "      }\n",
              "      return root.Bokeh.versions.get(py_version);\n",
              "    } else if (root.Bokeh.version === py_version) {\n",
              "      return root.Bokeh\n",
              "    }\n",
              "    return null\n",
              "  }\n",
              "  function is_loaded(root) {\n",
              "    var Bokeh = get_bokeh(root)\n",
              "    return (Bokeh != null && Bokeh.Panel !== undefined)\n",
              "  }\n",
              "  if (is_loaded(root)) {\n",
              "    embed_document(root);\n",
              "  } else {\n",
              "    var attempts = 0;\n",
              "    var timer = setInterval(function(root) {\n",
              "      if (is_loaded(root)) {\n",
              "        clearInterval(timer);\n",
              "        embed_document(root);\n",
              "      } else if (document.readyState == \"complete\") {\n",
              "        attempts++;\n",
              "        if (attempts > 200) {\n",
              "          clearInterval(timer);\n",
              "\t  var Bokeh = get_bokeh(root)\n",
              "\t  if (Bokeh == null || Bokeh.Panel == null) {\n",
              "            console.warn(\"Panel: ERROR: Unable to run Panel code because Bokeh or Panel library is missing\");\n",
              "\t  } else {\n",
              "\t    console.warn(\"Panel: WARNING: Attempting to render but not all required libraries could be resolved.\")\n",
              "\t    embed_document(root)\n",
              "\t  }\n",
              "        }\n",
              "      }\n",
              "    }, 25, root)\n",
              "  }\n",
              "})(window);</script>"
            ],
            "text/plain": [
              ":Overlay\n",
              "   .WMTS.I     :WMTS   [Longitude,Latitude]\n",
              "   .Polygons.I :Polygons   [Longitude,Latitude]"
            ]
          },
          "execution_count": 5,
          "metadata": {
            "application/vnd.holoviews_exec.v0+json": {
              "id": "p1099"
            }
          },
          "output_type": "execute_result"
        }
      ],
      "source": [
        "# Plot haskell boundary\n",
        "haskell_map = haskell_gdf.reset_index().hvplot(\n",
        "    # Give the map a descriptive title\n",
        "    title=\"Haskell Indian Nations Universty, Lawrence, KS\",\n",
        "    # Add a basemap\n",
        "    geo=True, tiles='EsriImagery',\n",
        "    # Change the colors\n",
        "    fill_color='white', fill_alpha=0.2,\n",
        "    line_color='skyblue', line_width=5,\n",
        "    # Change the image size\n",
        "    frame_width=400, frame_height=400)\n",
        "\n",
        "# Save the map as a file to put on the web\n",
        "hv.save(haskell_map, 'haskell.html')\n",
        "\n",
        "# Display the map\n",
        "haskell_map"
      ]
    },
    {
      "cell_type": "code",
      "execution_count": 4,
      "id": "3411bc40",
      "metadata": {},
      "outputs": [
        {
          "data": {
            "text/html": [
              "<div>\n",
              "<style scoped>\n",
              "    .dataframe tbody tr th:only-of-type {\n",
              "        vertical-align: middle;\n",
              "    }\n",
              "\n",
              "    .dataframe tbody tr th {\n",
              "        vertical-align: top;\n",
              "    }\n",
              "\n",
              "    .dataframe thead th {\n",
              "        text-align: right;\n",
              "    }\n",
              "</style>\n",
              "<table border=\"1\" class=\"dataframe\">\n",
              "  <thead>\n",
              "    <tr style=\"text-align: right;\">\n",
              "      <th></th>\n",
              "      <th></th>\n",
              "      <th>geometry</th>\n",
              "      <th>ways</th>\n",
              "      <th>contact:website</th>\n",
              "      <th>ele</th>\n",
              "      <th>gnis:feature_id</th>\n",
              "      <th>name</th>\n",
              "      <th>natural</th>\n",
              "      <th>type</th>\n",
              "      <th>water</th>\n",
              "      <th>wikidata</th>\n",
              "      <th>wikipedia</th>\n",
              "      <th>nodes</th>\n",
              "    </tr>\n",
              "    <tr>\n",
              "      <th>element_type</th>\n",
              "      <th>osmid</th>\n",
              "      <th></th>\n",
              "      <th></th>\n",
              "      <th></th>\n",
              "      <th></th>\n",
              "      <th></th>\n",
              "      <th></th>\n",
              "      <th></th>\n",
              "      <th></th>\n",
              "      <th></th>\n",
              "      <th></th>\n",
              "      <th></th>\n",
              "      <th></th>\n",
              "    </tr>\n",
              "  </thead>\n",
              "  <tbody>\n",
              "    <tr>\n",
              "      <th>relation</th>\n",
              "      <th>5379637</th>\n",
              "      <td>POLYGON ((-105.15841 40.54734, -105.15739 40.5...</td>\n",
              "      <td>[23598868, 801926895]</td>\n",
              "      <td>http://www.co.larimer.co.us/parks/horsetooth.cfm</td>\n",
              "      <td>1659</td>\n",
              "      <td>177416</td>\n",
              "      <td>Horsetooth Reservoir</td>\n",
              "      <td>water</td>\n",
              "      <td>multipolygon</td>\n",
              "      <td>reservoir</td>\n",
              "      <td>Q5906116</td>\n",
              "      <td>en:Horsetooth Reservoir</td>\n",
              "      <td>[[[255567424, 255567425, 255567426, 255567427,...</td>\n",
              "    </tr>\n",
              "  </tbody>\n",
              "</table>\n",
              "</div>"
            ],
            "text/plain": [
              "                                                               geometry  \\\n",
              "element_type osmid                                                        \n",
              "relation     5379637  POLYGON ((-105.15841 40.54734, -105.15739 40.5...   \n",
              "\n",
              "                                       ways  \\\n",
              "element_type osmid                            \n",
              "relation     5379637  [23598868, 801926895]   \n",
              "\n",
              "                                                       contact:website   ele  \\\n",
              "element_type osmid                                                             \n",
              "relation     5379637  http://www.co.larimer.co.us/parks/horsetooth.cfm  1659   \n",
              "\n",
              "                     gnis:feature_id                  name natural  \\\n",
              "element_type osmid                                                   \n",
              "relation     5379637          177416  Horsetooth Reservoir   water   \n",
              "\n",
              "                              type      water  wikidata  \\\n",
              "element_type osmid                                        \n",
              "relation     5379637  multipolygon  reservoir  Q5906116   \n",
              "\n",
              "                                    wikipedia  \\\n",
              "element_type osmid                              \n",
              "relation     5379637  en:Horsetooth Reservoir   \n",
              "\n",
              "                                                                  nodes  \n",
              "element_type osmid                                                       \n",
              "relation     5379637  [[[255567424, 255567425, 255567426, 255567427,...  "
            ]
          },
          "execution_count": 4,
          "metadata": {},
          "output_type": "execute_result"
        }
      ],
      "source": [
        "# Search for Horsetooth Reservoir\n",
        "horsetooth_gdf = osm.features_from_address(\n",
        "    'Horsetooth Reservoir',\n",
        "    {'name': ['Horsetooth Reservoir']})\n",
        "horsetooth_gdf"
      ]
    },
    {
      "cell_type": "code",
      "execution_count": 5,
      "id": "454998c9",
      "metadata": {},
      "outputs": [
        {
          "data": {
            "text/plain": [
              "<Axes: >"
            ]
          },
          "execution_count": 5,
          "metadata": {},
          "output_type": "execute_result"
        },
        {
          "data": {
            "image/png": "[encoded data removed]",
            "text/plain": [
              "<Figure size 640x480 with 1 Axes>"
            ]
          },
          "metadata": {},
          "output_type": "display_data"
        }
      ],
      "source": [
        "horsetooth_gdf.plot()"
      ]
    },
    {
      "cell_type": "code",
      "execution_count": 7,
      "id": "71fdf0e1",
      "metadata": {},
      "outputs": [
        {
          "name": "stderr",
          "output_type": "stream",
          "text": [
            "WARNING:bokeh.core.validation.check:W-1005 (FIXED_SIZING_MODE): 'fixed' sizing mode requires width and height to be set: figure(id='p1222', ...)\n"
          ]
        },
        {
          "data": {},
          "metadata": {},
          "output_type": "display_data"
        },
        {
          "data": {
            "application/vnd.holoviews_exec.v0+json": "",
            "text/html": [
              "<div id='p1280'>\n",
              "  <div id=\"f79ae533-f1c2-4273-9688-00981792d7dc\" data-root-id=\"p1280\" style=\"display: contents;\"></div>\n",
              "</div>\n",
              "<script type=\"application/javascript\">(function(root) {\n",
              "  var docs_json = {\"c31b6ce6-363e-4741-9407-2f9cdcdeb06d\":{\"version\":\"3.3.4\",\"title\":\"Bokeh Application\",\"roots\":[{\"type\":\"object\",\"name\":\"Row\",\"id\":\"p1280\",\"attributes\":{\"name\":\"Row01951\",\"tags\":[\"embedded\"],\"stylesheets\":[\"\\n:host(.pn-loading.pn-arc):before, .pn-loading.pn-arc:before {\\n  background-image: url(\\\"data:image/svg+xml;base64,PHN2ZyB4bWxucz0iaHR0cDovL3d3dy53My5vcmcvMjAwMC9zdmciIHN0eWxlPSJtYXJnaW46IGF1dG87IGJhY2tncm91bmQ6IG5vbmU7IGRpc3BsYXk6IGJsb2NrOyBzaGFwZS1yZW5kZXJpbmc6IGF1dG87IiB2aWV3Qm94PSIwIDAgMTAwIDEwMCIgcHJlc2VydmVBc3BlY3RSYXRpbz0ieE1pZFlNaWQiPiAgPGNpcmNsZSBjeD0iNTAiIGN5PSI1MCIgZmlsbD0ibm9uZSIgc3Ryb2tlPSIjYzNjM2MzIiBzdHJva2Utd2lkdGg9IjEwIiByPSIzNSIgc3Ryb2tlLWRhc2hhcnJheT0iMTY0LjkzMzYxNDMxMzQ2NDE1IDU2Ljk3Nzg3MTQzNzgyMTM4Ij4gICAgPGFuaW1hdGVUcmFuc2Zvcm0gYXR0cmlidXRlTmFtZT0idHJhbnNmb3JtIiB0eXBlPSJyb3RhdGUiIHJlcGVhdENvdW50PSJpbmRlZmluaXRlIiBkdXI9IjFzIiB2YWx1ZXM9IjAgNTAgNTA7MzYwIDUwIDUwIiBrZXlUaW1lcz0iMDsxIj48L2FuaW1hdGVUcmFuc2Zvcm0+ICA8L2NpcmNsZT48L3N2Zz4=\\\");\\n  background-size: auto calc(min(50%, 400px));\\n}\",{\"type\":\"object\",\"name\":\"ImportedStyleSheet\",\"id\":\"p1283\",\"attributes\":{\"url\":\"https://cdn.holoviz.org/panel/1.3.8/dist/css/loading.css\"}},{\"type\":\"object\",\"name\":\"ImportedStyleSheet\",\"id\":\"p1363\",\"attributes\":{\"url\":\"https://cdn.holoviz.org/panel/1.3.8/dist/css/listpanel.css\"}},{\"type\":\"object\",\"name\":\"ImportedStyleSheet\",\"id\":\"p1281\",\"attributes\":{\"url\":\"https://cdn.holoviz.org/panel/1.3.8/dist/bundled/theme/default.css\"}},{\"type\":\"object\",\"name\":\"ImportedStyleSheet\",\"id\":\"p1282\",\"attributes\":{\"url\":\"https://cdn.holoviz.org/panel/1.3.8/dist/bundled/theme/native.css\"}}],\"margin\":0,\"sizing_mode\":\"stretch_width\",\"align\":\"start\",\"children\":[{\"type\":\"object\",\"name\":\"Spacer\",\"id\":\"p1284\",\"attributes\":{\"name\":\"HSpacer01956\",\"stylesheets\":[\"\\n:host(.pn-loading.pn-arc):before, .pn-loading.pn-arc:before {\\n  background-image: url(\\\"data:image/svg+xml;base64,PHN2ZyB4bWxucz0iaHR0cDovL3d3dy53My5vcmcvMjAwMC9zdmciIHN0eWxlPSJtYXJnaW46IGF1dG87IGJhY2tncm91bmQ6IG5vbmU7IGRpc3BsYXk6IGJsb2NrOyBzaGFwZS1yZW5kZXJpbmc6IGF1dG87IiB2aWV3Qm94PSIwIDAgMTAwIDEwMCIgcHJlc2VydmVBc3BlY3RSYXRpbz0ieE1pZFlNaWQiPiAgPGNpcmNsZSBjeD0iNTAiIGN5PSI1MCIgZmlsbD0ibm9uZSIgc3Ryb2tlPSIjYzNjM2MzIiBzdHJva2Utd2lkdGg9IjEwIiByPSIzNSIgc3Ryb2tlLWRhc2hhcnJheT0iMTY0LjkzMzYxNDMxMzQ2NDE1IDU2Ljk3Nzg3MTQzNzgyMTM4Ij4gICAgPGFuaW1hdGVUcmFuc2Zvcm0gYXR0cmlidXRlTmFtZT0idHJhbnNmb3JtIiB0eXBlPSJyb3RhdGUiIHJlcGVhdENvdW50PSJpbmRlZmluaXRlIiBkdXI9IjFzIiB2YWx1ZXM9IjAgNTAgNTA7MzYwIDUwIDUwIiBrZXlUaW1lcz0iMDsxIj48L2FuaW1hdGVUcmFuc2Zvcm0+ICA8L2NpcmNsZT48L3N2Zz4=\\\");\\n  background-size: auto calc(min(50%, 400px));\\n}\",{\"id\":\"p1283\"},{\"id\":\"p1281\"},{\"id\":\"p1282\"}],\"margin\":0,\"sizing_mode\":\"stretch_width\",\"align\":\"start\"}},{\"type\":\"object\",\"name\":\"Figure\",\"id\":\"p1312\",\"attributes\":{\"width\":null,\"height\":null,\"margin\":[5,10],\"sizing_mode\":\"fixed\",\"align\":\"start\",\"x_range\":{\"type\":\"object\",\"name\":\"Range1d\",\"id\":\"p1294\",\"attributes\":{\"tags\":[[[\"Longitude\",\"Longitude\",null]],[]],\"start\":-11714631.283216452,\"end\":-11698184.374945883,\"reset_start\":-11714631.283216452,\"reset_end\":-11698184.374945883,\"min_interval\":5}},\"y_range\":{\"type\":\"object\",\"name\":\"Range1d\",\"id\":\"p1295\",\"attributes\":{\"tags\":[[[\"Latitude\",\"Latitude\",null]],{\"type\":\"map\",\"entries\":[[\"invert_yaxis\",false],[\"autorange\",false]]}],\"start\":4938414.561973254,\"end\":4954861.470243823,\"reset_start\":4938414.561973254,\"reset_end\":4954861.470243823,\"min_interval\":5}},\"x_scale\":{\"type\":\"object\",\"name\":\"LinearScale\",\"id\":\"p1322\"},\"y_scale\":{\"type\":\"object\",\"name\":\"LinearScale\",\"id\":\"p1323\"},\"title\":{\"type\":\"object\",\"name\":\"Title\",\"id\":\"p1315\",\"attributes\":{\"text\":\"Horsetooth Reservoir, Larimer County, CO\",\"text_color\":\"black\",\"text_font_size\":\"12pt\"}},\"renderers\":[{\"type\":\"object\",\"name\":\"TileRenderer\",\"id\":\"p1345\",\"attributes\":{\"level\":\"underlay\",\"tile_source\":{\"type\":\"object\",\"name\":\"WMTSTileSource\",\"id\":\"p1341\",\"attributes\":{\"url\":\"https://server.arcgisonline.com/ArcGIS/rest/services/World_Imagery/MapServer/tile/{Z}/{Y}/{X}.jpg\",\"attribution\":\"&copy; <a href=\\\"http://downloads.esri.com/ArcGISOnline/docs/tou_summary.pdf\\\">Esri</a>, Earthstar Geographics\"}}}},{\"type\":\"object\",\"name\":\"GlyphRenderer\",\"id\":\"p1356\",\"attributes\":{\"data_source\":{\"type\":\"object\",\"name\":\"ColumnDataSource\",\"id\":\"p1347\",\"attributes\":{\"selected\":{\"type\":\"object\",\"name\":\"Selection\",\"id\":\"p1348\",\"attributes\":{\"indices\":[],\"line_indices\":[]}},\"selection_policy\":{\"type\":\"object\",\"name\":\"UnionRenderers\",\"id\":\"p1349\"},\"data\":{\"type\":\"map\",\"entries\":[[\"xs\",[[[{\"type\":\"ndarray\",\"array\":{\"type\":\"bytes\",\"data\":\"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\"},\"shape\":[920],\"dtype\":\"float64\",\"order\":\"little\"},{\"type\":\"ndarray\",\"array\":{\"type\":\"bytes\",\"data\":\"0EnGTo9UZsEp4daPjlRmwXnenBGNVGbBFiWe34tUZsEVYcxGi1RmwRxEZSiKVGbBk9+4colUZsE7wAQAiVRmwb25dKKJVGbBETK+mopUZsFFpsSJi1RmwcwKcT+MVGbBSF12Z41UZsFzv9XIjlRmwdBJxk6PVGbBLtS21I9UZsEoLUxakFRmwbGR+A+RVGbBiLc84JBUZsHZa7Q/kVRmwd5elISSVGbBq3Ixx5JUZsGrcjHHklRmwWFYBCeTVGbBN35I95JUZsGxGZxBklRmwYHUo/6RVGbBKbXvi5FUZsEkwg9HkFRmwcreiTuPVGbB0EnGTo9UZsE=\"},\"shape\":[31],\"dtype\":\"float64\",\"order\":\"little\"}]]]],[\"ys\",[[[{\"type\":\"ndarray\",\"array\":{\"type\":\"bytes\",\"data\":\"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\"},\"shape\":[920],\"dtype\":\"float64\",\"order\":\"little\"},{\"type\":\"ndarray\",\"array\":{\"type\":\"bytes\",\"data\":\"E9gvRIDjUkEFomxyeuNSQT8MWeBz41JB/oCqwW3jUkGNwA9WZ+NSQT9n3Rhl41JBlgDiYGPjUkHmMsz5Y+NSQRvadNBr41JBUZ4V93XjUkGT6gcqgeNSQfq28DmJ41JBNEol7pLjUkHhXwZSn+NSQaJdrAWk41JBjt9fGaTjUkFDymMkquNSQWwWn8mr41JBxg7Bn67jUkEZ+CCrr+NSQRVwbZev41JBfoN596rjUkEBcg7FpONSQQqJQIuf41JBTfQ9FJjjUkGhvEcMlONSQTCis8OQ41JB13+BzozjUkGwALRMieNSQTDgzq+G41JBE9gvRIDjUkE=\"},\"shape\":[31],\"dtype\":\"float64\",\"order\":\"little\"}]]]]]}}},\"view\":{\"type\":\"object\",\"name\":\"CDSView\",\"id\":\"p1357\",\"attributes\":{\"filter\":{\"type\":\"object\",\"name\":\"AllIndices\",\"id\":\"p1358\"}}},\"glyph\":{\"type\":\"object\",\"name\":\"MultiPolygons\",\"id\":\"p1353\",\"attributes\":{\"xs\":{\"type\":\"field\",\"field\":\"xs\"},\"ys\":{\"type\":\"field\",\"field\":\"ys\"},\"line_color\":{\"type\":\"value\",\"value\":\"skyblue\"},\"line_width\":{\"type\":\"value\",\"value\":3},\"fill_color\":{\"type\":\"value\",\"value\":\"white\"},\"fill_alpha\":{\"type\":\"value\",\"value\":0.2},\"hatch_color\":{\"type\":\"value\",\"value\":\"#30a2da\"}}},\"selection_glyph\":{\"type\":\"object\",\"name\":\"MultiPolygons\",\"id\":\"p1359\",\"attributes\":{\"xs\":{\"type\":\"field\",\"field\":\"xs\"},\"ys\":{\"type\":\"field\",\"field\":\"ys\"},\"line_color\":{\"type\":\"value\",\"value\":\"skyblue\"},\"line_alpha\":{\"type\":\"value\",\"value\":1.0},\"line_width\":{\"type\":\"value\",\"value\":3},\"line_join\":{\"type\":\"value\",\"value\":\"bevel\"},\"line_cap\":{\"type\":\"value\",\"value\":\"butt\"},\"line_dash\":{\"type\":\"value\",\"value\":[]},\"line_dash_offset\":{\"type\":\"value\",\"value\":0},\"fill_color\":{\"type\":\"value\",\"value\":\"white\"},\"fill_alpha\":{\"type\":\"value\",\"value\":0.2},\"hatch_color\":{\"type\":\"value\",\"value\":\"#30a2da\"},\"hatch_alpha\":{\"type\":\"value\",\"value\":1.0},\"hatch_scale\":{\"type\":\"value\",\"value\":12.0},\"hatch_pattern\":{\"type\":\"value\",\"value\":null},\"hatch_weight\":{\"type\":\"value\",\"value\":1.0}}},\"nonselection_glyph\":{\"type\":\"object\",\"name\":\"MultiPolygons\",\"id\":\"p1354\",\"attributes\":{\"xs\":{\"type\":\"field\",\"field\":\"xs\"},\"ys\":{\"type\":\"field\",\"field\":\"ys\"},\"line_color\":{\"type\":\"value\",\"value\":\"skyblue\"},\"line_alpha\":{\"type\":\"value\",\"value\":0.1},\"line_width\":{\"type\":\"value\",\"value\":3},\"fill_color\":{\"type\":\"value\",\"value\":\"white\"},\"fill_alpha\":{\"type\":\"value\",\"value\":0.2},\"hatch_color\":{\"type\":\"value\",\"value\":\"#30a2da\"},\"hatch_alpha\":{\"type\":\"value\",\"value\":0.1}}},\"muted_glyph\":{\"type\":\"object\",\"name\":\"MultiPolygons\",\"id\":\"p1355\",\"attributes\":{\"xs\":{\"type\":\"field\",\"field\":\"xs\"},\"ys\":{\"type\":\"field\",\"field\":\"ys\"},\"line_color\":{\"type\":\"value\",\"value\":\"skyblue\"},\"line_alpha\":{\"type\":\"value\",\"value\":0.2},\"line_width\":{\"type\":\"value\",\"value\":3},\"fill_color\":{\"type\":\"value\",\"value\":\"white\"},\"fill_alpha\":{\"type\":\"value\",\"value\":0.2},\"hatch_color\":{\"type\":\"value\",\"value\":\"#30a2da\"},\"hatch_alpha\":{\"type\":\"value\",\"value\":0.2}}}}}],\"toolbar\":{\"type\":\"object\",\"name\":\"Toolbar\",\"id\":\"p1321\",\"attributes\":{\"tools\":[{\"type\":\"object\",\"name\":\"WheelZoomTool\",\"id\":\"p1298\",\"attributes\":{\"renderers\":\"auto\",\"zoom_on_axis\":false}},{\"type\":\"object\",\"name\":\"BoxZoomTool\",\"id\":\"p1299\",\"attributes\":{\"overlay\":{\"type\":\"object\",\"name\":\"BoxAnnotation\",\"id\":\"p1006\",\"attributes\":{\"syncable\":false,\"level\":\"overlay\",\"visible\":false,\"left\":{\"type\":\"number\",\"value\":\"nan\"},\"right\":{\"type\":\"number\",\"value\":\"nan\"},\"top\":{\"type\":\"number\",\"value\":\"nan\"},\"bottom\":{\"type\":\"number\",\"value\":\"nan\"},\"left_units\":\"canvas\",\"right_units\":\"canvas\",\"top_units\":\"canvas\",\"bottom_units\":\"canvas\",\"line_color\":\"black\",\"line_alpha\":1.0,\"line_width\":2,\"line_dash\":[4,4],\"fill_color\":\"lightgrey\",\"fill_alpha\":0.5}},\"match_aspect\":true}},{\"type\":\"object\",\"name\":\"PanTool\",\"id\":\"p1335\"},{\"type\":\"object\",\"name\":\"ResetTool\",\"id\":\"p1336\"}],\"active_drag\":{\"id\":\"p1335\"}}},\"left\":[{\"type\":\"object\",\"name\":\"LinearAxis\",\"id\":\"p1329\",\"attributes\":{\"ticker\":{\"type\":\"object\",\"name\":\"MercatorTicker\",\"id\":\"p1339\",\"attributes\":{\"mantissas\":[1,2,5],\"dimension\":\"lat\"}},\"formatter\":{\"type\":\"object\",\"name\":\"MercatorTickFormatter\",\"id\":\"p1340\",\"attributes\":{\"dimension\":\"lat\"}},\"axis_label\":\"Latitude\",\"major_label_policy\":{\"type\":\"object\",\"name\":\"AllLabels\",\"id\":\"p1332\"}}}],\"below\":[{\"type\":\"object\",\"name\":\"LinearAxis\",\"id\":\"p1324\",\"attributes\":{\"ticker\":{\"type\":\"object\",\"name\":\"MercatorTicker\",\"id\":\"p1337\",\"attributes\":{\"mantissas\":[1,2,5],\"dimension\":\"lon\"}},\"formatter\":{\"type\":\"object\",\"name\":\"MercatorTickFormatter\",\"id\":\"p1338\",\"attributes\":{\"dimension\":\"lon\"}},\"axis_label\":\"Longitude\",\"major_label_policy\":{\"type\":\"object\",\"name\":\"AllLabels\",\"id\":\"p1327\"}}}],\"center\":[{\"type\":\"object\",\"name\":\"Grid\",\"id\":\"p1328\",\"attributes\":{\"axis\":{\"id\":\"p1324\"},\"grid_line_color\":null}},{\"type\":\"object\",\"name\":\"Grid\",\"id\":\"p1333\",\"attributes\":{\"dimension\":1,\"axis\":{\"id\":\"p1329\"},\"grid_line_color\":null}}],\"frame_width\":400,\"frame_height\":400,\"min_border_top\":10,\"min_border_bottom\":10,\"min_border_left\":10,\"min_border_right\":10,\"output_backend\":\"webgl\",\"match_aspect\":true}},{\"type\":\"object\",\"name\":\"Spacer\",\"id\":\"p1361\",\"attributes\":{\"name\":\"HSpacer01957\",\"stylesheets\":[\"\\n:host(.pn-loading.pn-arc):before, .pn-loading.pn-arc:before {\\n  background-image: url(\\\"data:image/svg+xml;base64,PHN2ZyB4bWxucz0iaHR0cDovL3d3dy53My5vcmcvMjAwMC9zdmciIHN0eWxlPSJtYXJnaW46IGF1dG87IGJhY2tncm91bmQ6IG5vbmU7IGRpc3BsYXk6IGJsb2NrOyBzaGFwZS1yZW5kZXJpbmc6IGF1dG87IiB2aWV3Qm94PSIwIDAgMTAwIDEwMCIgcHJlc2VydmVBc3BlY3RSYXRpbz0ieE1pZFlNaWQiPiAgPGNpcmNsZSBjeD0iNTAiIGN5PSI1MCIgZmlsbD0ibm9uZSIgc3Ryb2tlPSIjYzNjM2MzIiBzdHJva2Utd2lkdGg9IjEwIiByPSIzNSIgc3Ryb2tlLWRhc2hhcnJheT0iMTY0LjkzMzYxNDMxMzQ2NDE1IDU2Ljk3Nzg3MTQzNzgyMTM4Ij4gICAgPGFuaW1hdGVUcmFuc2Zvcm0gYXR0cmlidXRlTmFtZT0idHJhbnNmb3JtIiB0eXBlPSJyb3RhdGUiIHJlcGVhdENvdW50PSJpbmRlZmluaXRlIiBkdXI9IjFzIiB2YWx1ZXM9IjAgNTAgNTA7MzYwIDUwIDUwIiBrZXlUaW1lcz0iMDsxIj48L2FuaW1hdGVUcmFuc2Zvcm0+ICA8L2NpcmNsZT48L3N2Zz4=\\\");\\n  background-size: auto calc(min(50%, 400px));\\n}\",{\"id\":\"p1283\"},{\"id\":\"p1281\"},{\"id\":\"p1282\"}],\"margin\":0,\"sizing_mode\":\"stretch_width\",\"align\":\"start\"}}]}}],\"defs\":[{\"type\":\"model\",\"name\":\"ReactiveHTML1\"},{\"type\":\"model\",\"name\":\"FlexBox1\",\"properties\":[{\"name\":\"align_content\",\"kind\":\"Any\",\"default\":\"flex-start\"},{\"name\":\"align_items\",\"kind\":\"Any\",\"default\":\"flex-start\"},{\"name\":\"flex_direction\",\"kind\":\"Any\",\"default\":\"row\"},{\"name\":\"flex_wrap\",\"kind\":\"Any\",\"default\":\"wrap\"},{\"name\":\"justify_content\",\"kind\":\"Any\",\"default\":\"flex-start\"}]},{\"type\":\"model\",\"name\":\"FloatPanel1\",\"properties\":[{\"name\":\"config\",\"kind\":\"Any\",\"default\":{\"type\":\"map\"}},{\"name\":\"contained\",\"kind\":\"Any\",\"default\":true},{\"name\":\"position\",\"kind\":\"Any\",\"default\":\"right-top\"},{\"name\":\"offsetx\",\"kind\":\"Any\",\"default\":null},{\"name\":\"offsety\",\"kind\":\"Any\",\"default\":null},{\"name\":\"theme\",\"kind\":\"Any\",\"default\":\"primary\"},{\"name\":\"status\",\"kind\":\"Any\",\"default\":\"normalized\"}]},{\"type\":\"model\",\"name\":\"GridStack1\",\"properties\":[{\"name\":\"mode\",\"kind\":\"Any\",\"default\":\"warn\"},{\"name\":\"ncols\",\"kind\":\"Any\",\"default\":null},{\"name\":\"nrows\",\"kind\":\"Any\",\"default\":null},{\"name\":\"allow_resize\",\"kind\":\"Any\",\"default\":true},{\"name\":\"allow_drag\",\"kind\":\"Any\",\"default\":true},{\"name\":\"state\",\"kind\":\"Any\",\"default\":[]}]},{\"type\":\"model\",\"name\":\"drag1\",\"properties\":[{\"name\":\"slider_width\",\"kind\":\"Any\",\"default\":5},{\"name\":\"slider_color\",\"kind\":\"Any\",\"default\":\"black\"},{\"name\":\"value\",\"kind\":\"Any\",\"default\":50}]},{\"type\":\"model\",\"name\":\"click1\",\"properties\":[{\"name\":\"terminal_output\",\"kind\":\"Any\",\"default\":\"\"},{\"name\":\"debug_name\",\"kind\":\"Any\",\"default\":\"\"},{\"name\":\"clears\",\"kind\":\"Any\",\"default\":0}]},{\"type\":\"model\",\"name\":\"copy_to_clipboard1\",\"properties\":[{\"name\":\"fill\",\"kind\":\"Any\",\"default\":\"none\"},{\"name\":\"value\",\"kind\":\"Any\",\"default\":null}]},{\"type\":\"model\",\"name\":\"FastWrapper1\",\"properties\":[{\"name\":\"object\",\"kind\":\"Any\",\"default\":null},{\"name\":\"style\",\"kind\":\"Any\",\"default\":null}]},{\"type\":\"model\",\"name\":\"NotificationAreaBase1\",\"properties\":[{\"name\":\"js_events\",\"kind\":\"Any\",\"default\":{\"type\":\"map\"}},{\"name\":\"position\",\"kind\":\"Any\",\"default\":\"bottom-right\"},{\"name\":\"_clear\",\"kind\":\"Any\",\"default\":0}]},{\"type\":\"model\",\"name\":\"NotificationArea1\",\"properties\":[{\"name\":\"js_events\",\"kind\":\"Any\",\"default\":{\"type\":\"map\"}},{\"name\":\"notifications\",\"kind\":\"Any\",\"default\":[]},{\"name\":\"position\",\"kind\":\"Any\",\"default\":\"bottom-right\"},{\"name\":\"_clear\",\"kind\":\"Any\",\"default\":0},{\"name\":\"types\",\"kind\":\"Any\",\"default\":[{\"type\":\"map\",\"entries\":[[\"type\",\"warning\"],[\"background\",\"#ffc107\"],[\"icon\",{\"type\":\"map\",\"entries\":[[\"className\",\"fas fa-exclamation-triangle\"],[\"tagName\",\"i\"],[\"color\",\"white\"]]}]]},{\"type\":\"map\",\"entries\":[[\"type\",\"info\"],[\"background\",\"#007bff\"],[\"icon\",{\"type\":\"map\",\"entries\":[[\"className\",\"fas fa-info-circle\"],[\"tagName\",\"i\"],[\"color\",\"white\"]]}]]}]}]},{\"type\":\"model\",\"name\":\"Notification\",\"properties\":[{\"name\":\"background\",\"kind\":\"Any\",\"default\":null},{\"name\":\"duration\",\"kind\":\"Any\",\"default\":3000},{\"name\":\"icon\",\"kind\":\"Any\",\"default\":null},{\"name\":\"message\",\"kind\":\"Any\",\"default\":\"\"},{\"name\":\"notification_type\",\"kind\":\"Any\",\"default\":null},{\"name\":\"_destroyed\",\"kind\":\"Any\",\"default\":false}]},{\"type\":\"model\",\"name\":\"TemplateActions1\",\"properties\":[{\"name\":\"open_modal\",\"kind\":\"Any\",\"default\":0},{\"name\":\"close_modal\",\"kind\":\"Any\",\"default\":0}]},{\"type\":\"model\",\"name\":\"BootstrapTemplateActions1\",\"properties\":[{\"name\":\"open_modal\",\"kind\":\"Any\",\"default\":0},{\"name\":\"close_modal\",\"kind\":\"Any\",\"default\":0}]},{\"type\":\"model\",\"name\":\"MaterialTemplateActions1\",\"properties\":[{\"name\":\"open_modal\",\"kind\":\"Any\",\"default\":0},{\"name\":\"close_modal\",\"kind\":\"Any\",\"default\":0}]}]}};\n",
              "  var render_items = [{\"docid\":\"c31b6ce6-363e-4741-9407-2f9cdcdeb06d\",\"roots\":{\"p1280\":\"f79ae533-f1c2-4273-9688-00981792d7dc\"},\"root_ids\":[\"p1280\"]}];\n",
              "  var docs = Object.values(docs_json)\n",
              "  if (!docs) {\n",
              "    return\n",
              "  }\n",
              "  const py_version = docs[0].version.replace('rc', '-rc.').replace('.dev', '-dev.')\n",
              "  function embed_document(root) {\n",
              "    var Bokeh = get_bokeh(root)\n",
              "    Bokeh.embed.embed_items_notebook(docs_json, render_items);\n",
              "    for (const render_item of render_items) {\n",
              "      for (const root_id of render_item.root_ids) {\n",
              "\tconst id_el = document.getElementById(root_id)\n",
              "\tif (id_el.children.length && (id_el.children[0].className === 'bk-root')) {\n",
              "\t  const root_el = id_el.children[0]\n",
              "\t  root_el.id = root_el.id + '-rendered'\n",
              "\t}\n",
              "      }\n",
              "    }\n",
              "  }\n",
              "  function get_bokeh(root) {\n",
              "    if (root.Bokeh === undefined) {\n",
              "      return null\n",
              "    } else if (root.Bokeh.version !== py_version) {\n",
              "      if (root.Bokeh.versions === undefined || !root.Bokeh.versions.has(py_version)) {\n",
              "\treturn null\n",
              "      }\n",
              "      return root.Bokeh.versions.get(py_version);\n",
              "    } else if (root.Bokeh.version === py_version) {\n",
              "      return root.Bokeh\n",
              "    }\n",
              "    return null\n",
              "  }\n",
              "  function is_loaded(root) {\n",
              "    var Bokeh = get_bokeh(root)\n",
              "    return (Bokeh != null && Bokeh.Panel !== undefined)\n",
              "  }\n",
              "  if (is_loaded(root)) {\n",
              "    embed_document(root);\n",
              "  } else {\n",
              "    var attempts = 0;\n",
              "    var timer = setInterval(function(root) {\n",
              "      if (is_loaded(root)) {\n",
              "        clearInterval(timer);\n",
              "        embed_document(root);\n",
              "      } else if (document.readyState == \"complete\") {\n",
              "        attempts++;\n",
              "        if (attempts > 200) {\n",
              "          clearInterval(timer);\n",
              "\t  var Bokeh = get_bokeh(root)\n",
              "\t  if (Bokeh == null || Bokeh.Panel == null) {\n",
              "            console.warn(\"Panel: ERROR: Unable to run Panel code because Bokeh or Panel library is missing\");\n",
              "\t  } else {\n",
              "\t    console.warn(\"Panel: WARNING: Attempting to render but not all required libraries could be resolved.\")\n",
              "\t    embed_document(root)\n",
              "\t  }\n",
              "        }\n",
              "      }\n",
              "    }, 25, root)\n",
              "  }\n",
              "})(window);</script>"
            ],
            "text/plain": [
              ":Overlay\n",
              "   .WMTS.I     :WMTS   [Longitude,Latitude]\n",
              "   .Polygons.I :Polygons   [Longitude,Latitude]"
            ]
          },
          "execution_count": 7,
          "metadata": {
            "application/vnd.holoviews_exec.v0+json": {
              "id": "p1280"
            }
          },
          "output_type": "execute_result"
        }
      ],
      "source": [
        "# Plot Horsetooth boundary\n",
        "horsetooth_map = horsetooth_gdf.reset_index().hvplot(\n",
        "    # Give the map a descriptive title\n",
        "    title=\"Horsetooth Reservoir, Larimer County, CO\",\n",
        "    # Add a basemap\n",
        "    geo=True, tiles='EsriImagery',\n",
        "    # Change the colors\n",
        "    fill_color='white', fill_alpha=0.2,\n",
        "    line_color='skyblue', line_width=3,\n",
        "    # Change the image size\n",
        "    frame_width=400, frame_height=400)\n",
        "\n",
        "# Save the map as a file to put on the web\n",
        "hv.save(horsetooth_map, 'horsetooth.html')\n",
        "\n",
        "# Display the map\n",
        "horsetooth_map"
      ]
    }
  ],
  "metadata": {
    "kernelspec": {
      "display_name": "base",
      "language": "python",
      "name": "python3"
    },
    "language_info": {
      "codemirror_mode": {
        "name": "ipython",
        "version": 3
      },
      "file_extension": ".py",
      "mimetype": "text/x-python",
      "name": "python",
      "nbconvert_exporter": "python",
      "pygments_lexer": "ipython3",
      "version": "3.11.6"
    }
  },
  "nbformat": 4,
  "nbformat_minor": 5
}
